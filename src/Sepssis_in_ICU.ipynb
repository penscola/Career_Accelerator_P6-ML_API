{
 "cells": [
  {
   "cell_type": "markdown",
   "metadata": {
    "id": "lMc7BeUOWOM-"
   },
   "source": [
    "# Setup"
   ]
  },
  {
   "cell_type": "markdown",
   "metadata": {
    "id": "yVSIzGg-W7MJ"
   },
   "source": [
    "## Importation"
   ]
  },
  {
   "cell_type": "code",
   "execution_count": 3,
   "metadata": {
    "id": "zjAThsYGWrvV"
   },
   "outputs": [],
   "source": [
    "# Data handlig & Exploratory Data Analysis (EDA):\n",
    "import pandas as pd\n",
    "import numpy as np\n",
    "import sklearn\n",
    "\n",
    "# Data Visualization & Exploratory Data Analysis (EDA):\n",
    "import seaborn as sns\n",
    "import matplotlib.pyplot as plt\n",
    "\n",
    "# Saving objects\n",
    "import joblib\n",
    "import pickle\n",
    "from joblib import dump, load\n",
    "\n",
    "# Machine learning\n",
    "from sklearn.linear_model import LogisticRegression\n",
    "from sklearn.svm import SVC\n",
    "from sklearn.neighbors import KNeighborsClassifier\n",
    "from sklearn.tree import DecisionTreeClassifier\n",
    "from sklearn.ensemble import RandomForestClassifier\n",
    "from sklearn.naive_bayes import GaussianNB\n",
    "from sklearn.ensemble import GradientBoostingClassifier\n",
    "from sklearn.neural_network import MLPClassifier\n",
    "from xgboost import XGBClassifier\n",
    "\n",
    "from sklearn.model_selection import train_test_split\n",
    "from sklearn.pipeline import Pipeline\n",
    "from sklearn.preprocessing import StandardScaler, LabelEncoder\n",
    "from sklearn.svm import LinearSVC\n",
    "from sklearn.model_selection import GridSearchCV, StratifiedKFold\n",
    "\n",
    "# Metrics\n",
    "from sklearn.metrics import confusion_matrix, accuracy_score, precision_score,\\\n",
    "                            recall_score, mean_squared_error,\\\n",
    "                            classification_report, confusion_matrix, f1_score, make_scorer\n",
    "from sklearn.metrics import roc_auc_score, log_loss\n",
    "from sklearn.metrics import roc_curve, roc_auc_score\n",
    "\n",
    "from collections import Counter\n",
    "from imblearn.over_sampling import RandomOverSampler\n"
   ]
  },
  {
   "cell_type": "markdown",
   "metadata": {
    "id": "Mo7D6NA_t41n"
   },
   "source": [
    "# Data Loading\n",
    "## Mount the drive and load the data"
   ]
  },
  {
   "cell_type": "code",
   "execution_count": 4,
   "metadata": {
    "colab": {
     "base_uri": "https://localhost:8080/"
    },
    "id": "tGcm2HPofSWP",
    "outputId": "99c42a78-6315-43c7-a659-efbc0328dff3"
   },
   "outputs": [],
   "source": [
    "# from google.colab import drive\n",
    "# drive.mount('/content/drive')"
   ]
  },
  {
   "cell_type": "code",
   "execution_count": 5,
   "metadata": {
    "id": "jGtDelSktqvt"
   },
   "outputs": [],
   "source": [
    "#load data\n",
    "train_df=pd.read_csv('../data/Paitients_Files_Train.csv')\n",
    "test_df=pd.read_csv('../data/Paitients_Files_Test.csv')"
   ]
  },
  {
   "cell_type": "markdown",
   "metadata": {
    "id": "hWL9J4ft1Cyo"
   },
   "source": [
    "# View the data"
   ]
  },
  {
   "cell_type": "code",
   "execution_count": 6,
   "metadata": {
    "colab": {
     "base_uri": "https://localhost:8080/",
     "height": 424
    },
    "id": "883DdpRc08Zn",
    "outputId": "14e81df6-2813-4f6f-eef8-16f4ab6a0c27"
   },
   "outputs": [
    {
     "data": {
      "text/html": [
       "<div>\n",
       "<style scoped>\n",
       "    .dataframe tbody tr th:only-of-type {\n",
       "        vertical-align: middle;\n",
       "    }\n",
       "\n",
       "    .dataframe tbody tr th {\n",
       "        vertical-align: top;\n",
       "    }\n",
       "\n",
       "    .dataframe thead th {\n",
       "        text-align: right;\n",
       "    }\n",
       "</style>\n",
       "<table border=\"1\" class=\"dataframe\">\n",
       "  <thead>\n",
       "    <tr style=\"text-align: right;\">\n",
       "      <th></th>\n",
       "      <th>ID</th>\n",
       "      <th>PRG</th>\n",
       "      <th>PL</th>\n",
       "      <th>PR</th>\n",
       "      <th>SK</th>\n",
       "      <th>TS</th>\n",
       "      <th>M11</th>\n",
       "      <th>BD2</th>\n",
       "      <th>Age</th>\n",
       "      <th>Insurance</th>\n",
       "      <th>Sepssis</th>\n",
       "    </tr>\n",
       "  </thead>\n",
       "  <tbody>\n",
       "    <tr>\n",
       "      <th>0</th>\n",
       "      <td>ICU200010</td>\n",
       "      <td>6</td>\n",
       "      <td>148</td>\n",
       "      <td>72</td>\n",
       "      <td>35</td>\n",
       "      <td>0</td>\n",
       "      <td>33.6</td>\n",
       "      <td>0.627</td>\n",
       "      <td>50</td>\n",
       "      <td>0</td>\n",
       "      <td>Positive</td>\n",
       "    </tr>\n",
       "    <tr>\n",
       "      <th>1</th>\n",
       "      <td>ICU200011</td>\n",
       "      <td>1</td>\n",
       "      <td>85</td>\n",
       "      <td>66</td>\n",
       "      <td>29</td>\n",
       "      <td>0</td>\n",
       "      <td>26.6</td>\n",
       "      <td>0.351</td>\n",
       "      <td>31</td>\n",
       "      <td>0</td>\n",
       "      <td>Negative</td>\n",
       "    </tr>\n",
       "    <tr>\n",
       "      <th>2</th>\n",
       "      <td>ICU200012</td>\n",
       "      <td>8</td>\n",
       "      <td>183</td>\n",
       "      <td>64</td>\n",
       "      <td>0</td>\n",
       "      <td>0</td>\n",
       "      <td>23.3</td>\n",
       "      <td>0.672</td>\n",
       "      <td>32</td>\n",
       "      <td>1</td>\n",
       "      <td>Positive</td>\n",
       "    </tr>\n",
       "    <tr>\n",
       "      <th>3</th>\n",
       "      <td>ICU200013</td>\n",
       "      <td>1</td>\n",
       "      <td>89</td>\n",
       "      <td>66</td>\n",
       "      <td>23</td>\n",
       "      <td>94</td>\n",
       "      <td>28.1</td>\n",
       "      <td>0.167</td>\n",
       "      <td>21</td>\n",
       "      <td>1</td>\n",
       "      <td>Negative</td>\n",
       "    </tr>\n",
       "    <tr>\n",
       "      <th>4</th>\n",
       "      <td>ICU200014</td>\n",
       "      <td>0</td>\n",
       "      <td>137</td>\n",
       "      <td>40</td>\n",
       "      <td>35</td>\n",
       "      <td>168</td>\n",
       "      <td>43.1</td>\n",
       "      <td>2.288</td>\n",
       "      <td>33</td>\n",
       "      <td>1</td>\n",
       "      <td>Positive</td>\n",
       "    </tr>\n",
       "    <tr>\n",
       "      <th>...</th>\n",
       "      <td>...</td>\n",
       "      <td>...</td>\n",
       "      <td>...</td>\n",
       "      <td>...</td>\n",
       "      <td>...</td>\n",
       "      <td>...</td>\n",
       "      <td>...</td>\n",
       "      <td>...</td>\n",
       "      <td>...</td>\n",
       "      <td>...</td>\n",
       "      <td>...</td>\n",
       "    </tr>\n",
       "    <tr>\n",
       "      <th>594</th>\n",
       "      <td>ICU200604</td>\n",
       "      <td>6</td>\n",
       "      <td>123</td>\n",
       "      <td>72</td>\n",
       "      <td>45</td>\n",
       "      <td>230</td>\n",
       "      <td>33.6</td>\n",
       "      <td>0.733</td>\n",
       "      <td>34</td>\n",
       "      <td>0</td>\n",
       "      <td>Negative</td>\n",
       "    </tr>\n",
       "    <tr>\n",
       "      <th>595</th>\n",
       "      <td>ICU200605</td>\n",
       "      <td>0</td>\n",
       "      <td>188</td>\n",
       "      <td>82</td>\n",
       "      <td>14</td>\n",
       "      <td>185</td>\n",
       "      <td>32.0</td>\n",
       "      <td>0.682</td>\n",
       "      <td>22</td>\n",
       "      <td>1</td>\n",
       "      <td>Positive</td>\n",
       "    </tr>\n",
       "    <tr>\n",
       "      <th>596</th>\n",
       "      <td>ICU200606</td>\n",
       "      <td>0</td>\n",
       "      <td>67</td>\n",
       "      <td>76</td>\n",
       "      <td>0</td>\n",
       "      <td>0</td>\n",
       "      <td>45.3</td>\n",
       "      <td>0.194</td>\n",
       "      <td>46</td>\n",
       "      <td>1</td>\n",
       "      <td>Negative</td>\n",
       "    </tr>\n",
       "    <tr>\n",
       "      <th>597</th>\n",
       "      <td>ICU200607</td>\n",
       "      <td>1</td>\n",
       "      <td>89</td>\n",
       "      <td>24</td>\n",
       "      <td>19</td>\n",
       "      <td>25</td>\n",
       "      <td>27.8</td>\n",
       "      <td>0.559</td>\n",
       "      <td>21</td>\n",
       "      <td>0</td>\n",
       "      <td>Negative</td>\n",
       "    </tr>\n",
       "    <tr>\n",
       "      <th>598</th>\n",
       "      <td>ICU200608</td>\n",
       "      <td>1</td>\n",
       "      <td>173</td>\n",
       "      <td>74</td>\n",
       "      <td>0</td>\n",
       "      <td>0</td>\n",
       "      <td>36.8</td>\n",
       "      <td>0.088</td>\n",
       "      <td>38</td>\n",
       "      <td>1</td>\n",
       "      <td>Positive</td>\n",
       "    </tr>\n",
       "  </tbody>\n",
       "</table>\n",
       "<p>599 rows × 11 columns</p>\n",
       "</div>"
      ],
      "text/plain": [
       "            ID  PRG   PL  PR  SK   TS   M11    BD2  Age  Insurance   Sepssis\n",
       "0    ICU200010    6  148  72  35    0  33.6  0.627   50          0  Positive\n",
       "1    ICU200011    1   85  66  29    0  26.6  0.351   31          0  Negative\n",
       "2    ICU200012    8  183  64   0    0  23.3  0.672   32          1  Positive\n",
       "3    ICU200013    1   89  66  23   94  28.1  0.167   21          1  Negative\n",
       "4    ICU200014    0  137  40  35  168  43.1  2.288   33          1  Positive\n",
       "..         ...  ...  ...  ..  ..  ...   ...    ...  ...        ...       ...\n",
       "594  ICU200604    6  123  72  45  230  33.6  0.733   34          0  Negative\n",
       "595  ICU200605    0  188  82  14  185  32.0  0.682   22          1  Positive\n",
       "596  ICU200606    0   67  76   0    0  45.3  0.194   46          1  Negative\n",
       "597  ICU200607    1   89  24  19   25  27.8  0.559   21          0  Negative\n",
       "598  ICU200608    1  173  74   0    0  36.8  0.088   38          1  Positive\n",
       "\n",
       "[599 rows x 11 columns]"
      ]
     },
     "execution_count": 6,
     "metadata": {},
     "output_type": "execute_result"
    }
   ],
   "source": [
    "train_df"
   ]
  },
  {
   "cell_type": "code",
   "execution_count": 7,
   "metadata": {
    "colab": {
     "base_uri": "https://localhost:8080/",
     "height": 424
    },
    "id": "yir_fIEj1hBN",
    "outputId": "132a5b69-462e-4456-e1f9-a3875c1711a4"
   },
   "outputs": [
    {
     "data": {
      "text/html": [
       "<div>\n",
       "<style scoped>\n",
       "    .dataframe tbody tr th:only-of-type {\n",
       "        vertical-align: middle;\n",
       "    }\n",
       "\n",
       "    .dataframe tbody tr th {\n",
       "        vertical-align: top;\n",
       "    }\n",
       "\n",
       "    .dataframe thead th {\n",
       "        text-align: right;\n",
       "    }\n",
       "</style>\n",
       "<table border=\"1\" class=\"dataframe\">\n",
       "  <thead>\n",
       "    <tr style=\"text-align: right;\">\n",
       "      <th></th>\n",
       "      <th>ID</th>\n",
       "      <th>PRG</th>\n",
       "      <th>PL</th>\n",
       "      <th>PR</th>\n",
       "      <th>SK</th>\n",
       "      <th>TS</th>\n",
       "      <th>M11</th>\n",
       "      <th>BD2</th>\n",
       "      <th>Age</th>\n",
       "      <th>Insurance</th>\n",
       "    </tr>\n",
       "  </thead>\n",
       "  <tbody>\n",
       "    <tr>\n",
       "      <th>0</th>\n",
       "      <td>ICU200609</td>\n",
       "      <td>1</td>\n",
       "      <td>109</td>\n",
       "      <td>38</td>\n",
       "      <td>18</td>\n",
       "      <td>120</td>\n",
       "      <td>23.1</td>\n",
       "      <td>0.407</td>\n",
       "      <td>26</td>\n",
       "      <td>1</td>\n",
       "    </tr>\n",
       "    <tr>\n",
       "      <th>1</th>\n",
       "      <td>ICU200610</td>\n",
       "      <td>1</td>\n",
       "      <td>108</td>\n",
       "      <td>88</td>\n",
       "      <td>19</td>\n",
       "      <td>0</td>\n",
       "      <td>27.1</td>\n",
       "      <td>0.400</td>\n",
       "      <td>24</td>\n",
       "      <td>1</td>\n",
       "    </tr>\n",
       "    <tr>\n",
       "      <th>2</th>\n",
       "      <td>ICU200611</td>\n",
       "      <td>6</td>\n",
       "      <td>96</td>\n",
       "      <td>0</td>\n",
       "      <td>0</td>\n",
       "      <td>0</td>\n",
       "      <td>23.7</td>\n",
       "      <td>0.190</td>\n",
       "      <td>28</td>\n",
       "      <td>1</td>\n",
       "    </tr>\n",
       "    <tr>\n",
       "      <th>3</th>\n",
       "      <td>ICU200612</td>\n",
       "      <td>1</td>\n",
       "      <td>124</td>\n",
       "      <td>74</td>\n",
       "      <td>36</td>\n",
       "      <td>0</td>\n",
       "      <td>27.8</td>\n",
       "      <td>0.100</td>\n",
       "      <td>30</td>\n",
       "      <td>1</td>\n",
       "    </tr>\n",
       "    <tr>\n",
       "      <th>4</th>\n",
       "      <td>ICU200613</td>\n",
       "      <td>7</td>\n",
       "      <td>150</td>\n",
       "      <td>78</td>\n",
       "      <td>29</td>\n",
       "      <td>126</td>\n",
       "      <td>35.2</td>\n",
       "      <td>0.692</td>\n",
       "      <td>54</td>\n",
       "      <td>0</td>\n",
       "    </tr>\n",
       "    <tr>\n",
       "      <th>...</th>\n",
       "      <td>...</td>\n",
       "      <td>...</td>\n",
       "      <td>...</td>\n",
       "      <td>...</td>\n",
       "      <td>...</td>\n",
       "      <td>...</td>\n",
       "      <td>...</td>\n",
       "      <td>...</td>\n",
       "      <td>...</td>\n",
       "      <td>...</td>\n",
       "    </tr>\n",
       "    <tr>\n",
       "      <th>164</th>\n",
       "      <td>ICU200773</td>\n",
       "      <td>10</td>\n",
       "      <td>101</td>\n",
       "      <td>76</td>\n",
       "      <td>48</td>\n",
       "      <td>180</td>\n",
       "      <td>32.9</td>\n",
       "      <td>0.171</td>\n",
       "      <td>63</td>\n",
       "      <td>1</td>\n",
       "    </tr>\n",
       "    <tr>\n",
       "      <th>165</th>\n",
       "      <td>ICU200774</td>\n",
       "      <td>2</td>\n",
       "      <td>122</td>\n",
       "      <td>70</td>\n",
       "      <td>27</td>\n",
       "      <td>0</td>\n",
       "      <td>36.8</td>\n",
       "      <td>0.340</td>\n",
       "      <td>27</td>\n",
       "      <td>1</td>\n",
       "    </tr>\n",
       "    <tr>\n",
       "      <th>166</th>\n",
       "      <td>ICU200775</td>\n",
       "      <td>5</td>\n",
       "      <td>121</td>\n",
       "      <td>72</td>\n",
       "      <td>23</td>\n",
       "      <td>112</td>\n",
       "      <td>26.2</td>\n",
       "      <td>0.245</td>\n",
       "      <td>30</td>\n",
       "      <td>1</td>\n",
       "    </tr>\n",
       "    <tr>\n",
       "      <th>167</th>\n",
       "      <td>ICU200776</td>\n",
       "      <td>1</td>\n",
       "      <td>126</td>\n",
       "      <td>60</td>\n",
       "      <td>0</td>\n",
       "      <td>0</td>\n",
       "      <td>30.1</td>\n",
       "      <td>0.349</td>\n",
       "      <td>47</td>\n",
       "      <td>1</td>\n",
       "    </tr>\n",
       "    <tr>\n",
       "      <th>168</th>\n",
       "      <td>ICU200777</td>\n",
       "      <td>1</td>\n",
       "      <td>93</td>\n",
       "      <td>70</td>\n",
       "      <td>31</td>\n",
       "      <td>0</td>\n",
       "      <td>30.4</td>\n",
       "      <td>0.315</td>\n",
       "      <td>23</td>\n",
       "      <td>1</td>\n",
       "    </tr>\n",
       "  </tbody>\n",
       "</table>\n",
       "<p>169 rows × 10 columns</p>\n",
       "</div>"
      ],
      "text/plain": [
       "            ID  PRG   PL  PR  SK   TS   M11    BD2  Age  Insurance\n",
       "0    ICU200609    1  109  38  18  120  23.1  0.407   26          1\n",
       "1    ICU200610    1  108  88  19    0  27.1  0.400   24          1\n",
       "2    ICU200611    6   96   0   0    0  23.7  0.190   28          1\n",
       "3    ICU200612    1  124  74  36    0  27.8  0.100   30          1\n",
       "4    ICU200613    7  150  78  29  126  35.2  0.692   54          0\n",
       "..         ...  ...  ...  ..  ..  ...   ...    ...  ...        ...\n",
       "164  ICU200773   10  101  76  48  180  32.9  0.171   63          1\n",
       "165  ICU200774    2  122  70  27    0  36.8  0.340   27          1\n",
       "166  ICU200775    5  121  72  23  112  26.2  0.245   30          1\n",
       "167  ICU200776    1  126  60   0    0  30.1  0.349   47          1\n",
       "168  ICU200777    1   93  70  31    0  30.4  0.315   23          1\n",
       "\n",
       "[169 rows x 10 columns]"
      ]
     },
     "execution_count": 7,
     "metadata": {},
     "output_type": "execute_result"
    }
   ],
   "source": [
    "test_df"
   ]
  },
  {
   "cell_type": "code",
   "execution_count": 8,
   "metadata": {
    "colab": {
     "base_uri": "https://localhost:8080/"
    },
    "id": "fbdvtAnX1lRJ",
    "outputId": "c3a8d65b-33c0-4fae-8c2e-5a806fd255af"
   },
   "outputs": [
    {
     "data": {
      "text/plain": [
       "Index(['ID', 'PRG', 'PL', 'PR', 'SK', 'TS', 'M11', 'BD2', 'Age', 'Insurance',\n",
       "       'Sepssis'],\n",
       "      dtype='object')"
      ]
     },
     "execution_count": 8,
     "metadata": {},
     "output_type": "execute_result"
    }
   ],
   "source": [
    "# View the dataset columns\n",
    "train_df.columns"
   ]
  },
  {
   "cell_type": "markdown",
   "metadata": {
    "id": "tRio0QKb3-O9"
   },
   "source": [
    "## Columns metadata [Details about the columns]\n",
    "1. ID : Unique number to represent patient ID\n",
    "2. PRG : Plasma glucose\n",
    "3.  PL : Blood Work Result-1 (mu U/ml)\n",
    "4. PR : Blood Pressure (mm Hg)\n",
    "5. SK : Blood Work Result-2 (mm)\n",
    "6. TS : Blood Work Result-3 (mu U/ml)\n",
    "7. M11 : Body mass index (weight in kg/(height in m)^2\n",
    "8. BD2 : Blood Work Result-4 (mu U/ml)\n",
    "9. Age : Patients age (years)\n",
    "10. Insurance : If a patient holds a valid insurance card\n",
    "11. Sepssis : Positive: if a patient in ICU will develop a sepsis , and Negative: otherwise"
   ]
  },
  {
   "cell_type": "code",
   "execution_count": 9,
   "metadata": {
    "colab": {
     "base_uri": "https://localhost:8080/"
    },
    "id": "HbAT-s0P9_JD",
    "outputId": "e964aa9e-d15f-4aea-e914-5da7bdaebcfa"
   },
   "outputs": [
    {
     "name": "stdout",
     "output_type": "stream",
     "text": [
      "<class 'pandas.core.frame.DataFrame'>\n",
      "RangeIndex: 599 entries, 0 to 598\n",
      "Data columns (total 11 columns):\n",
      " #   Column     Non-Null Count  Dtype  \n",
      "---  ------     --------------  -----  \n",
      " 0   ID         599 non-null    object \n",
      " 1   PRG        599 non-null    int64  \n",
      " 2   PL         599 non-null    int64  \n",
      " 3   PR         599 non-null    int64  \n",
      " 4   SK         599 non-null    int64  \n",
      " 5   TS         599 non-null    int64  \n",
      " 6   M11        599 non-null    float64\n",
      " 7   BD2        599 non-null    float64\n",
      " 8   Age        599 non-null    int64  \n",
      " 9   Insurance  599 non-null    int64  \n",
      " 10  Sepssis    599 non-null    object \n",
      "dtypes: float64(2), int64(7), object(2)\n",
      "memory usage: 51.6+ KB\n"
     ]
    }
   ],
   "source": [
    "# General information about the train_df\n",
    "train_df.info()"
   ]
  },
  {
   "cell_type": "markdown",
   "metadata": {
    "id": "WRQh8mf06SCb"
   },
   "source": [
    "# Explorative Data Analysis (EDA) of sepssis Dataset\n",
    "\n",
    "Exploratory Data Analysis (EDA) is a crucial step in any data analysis or machine learning project. It involves the initial investigation of the dataset to gain insights, discover patterns, and identify trends or anomalies. EDA plays a significant role in understanding the data, refining data preprocessing steps, and guiding the selection of appropriate machine learning algorithms."
   ]
  },
  {
   "cell_type": "markdown",
   "metadata": {
    "id": "qM_aUfbF_RoU"
   },
   "source": [
    "##  Univariate Analysis:\n",
    "Univariate analysis focuses on examining individual variables in the dataset. It helps us understand the distribution, central tendency, and spread of each variable. We will perform univariate analysis for numerical and categorical variables separately."
   ]
  },
  {
   "cell_type": "code",
   "execution_count": 10,
   "metadata": {
    "id": "mY-nRQgh4oYM"
   },
   "outputs": [],
   "source": [
    "# Univariate Analysis for Numerical Variables\n",
    "numerical_cols = ['PRG', 'PL', 'PR', 'SK', 'TS', 'M11', 'BD2', 'Age']"
   ]
  },
  {
   "cell_type": "code",
   "execution_count": 11,
   "metadata": {
    "colab": {
     "base_uri": "https://localhost:8080/",
     "height": 300
    },
    "id": "LbyXSAzE_rYH",
    "outputId": "2edd5e3e-a065-43d5-bfdb-b9b0ada58c3f"
   },
   "outputs": [
    {
     "data": {
      "text/html": [
       "<div>\n",
       "<style scoped>\n",
       "    .dataframe tbody tr th:only-of-type {\n",
       "        vertical-align: middle;\n",
       "    }\n",
       "\n",
       "    .dataframe tbody tr th {\n",
       "        vertical-align: top;\n",
       "    }\n",
       "\n",
       "    .dataframe thead th {\n",
       "        text-align: right;\n",
       "    }\n",
       "</style>\n",
       "<table border=\"1\" class=\"dataframe\">\n",
       "  <thead>\n",
       "    <tr style=\"text-align: right;\">\n",
       "      <th></th>\n",
       "      <th>PRG</th>\n",
       "      <th>PL</th>\n",
       "      <th>PR</th>\n",
       "      <th>SK</th>\n",
       "      <th>TS</th>\n",
       "      <th>M11</th>\n",
       "      <th>BD2</th>\n",
       "      <th>Age</th>\n",
       "    </tr>\n",
       "  </thead>\n",
       "  <tbody>\n",
       "    <tr>\n",
       "      <th>count</th>\n",
       "      <td>599.000000</td>\n",
       "      <td>599.000000</td>\n",
       "      <td>599.000000</td>\n",
       "      <td>599.000000</td>\n",
       "      <td>599.000000</td>\n",
       "      <td>599.000000</td>\n",
       "      <td>599.000000</td>\n",
       "      <td>599.000000</td>\n",
       "    </tr>\n",
       "    <tr>\n",
       "      <th>mean</th>\n",
       "      <td>3.824708</td>\n",
       "      <td>120.153589</td>\n",
       "      <td>68.732888</td>\n",
       "      <td>20.562604</td>\n",
       "      <td>79.460768</td>\n",
       "      <td>31.920033</td>\n",
       "      <td>0.481187</td>\n",
       "      <td>33.290484</td>\n",
       "    </tr>\n",
       "    <tr>\n",
       "      <th>std</th>\n",
       "      <td>3.362839</td>\n",
       "      <td>32.682364</td>\n",
       "      <td>19.335675</td>\n",
       "      <td>16.017622</td>\n",
       "      <td>116.576176</td>\n",
       "      <td>8.008227</td>\n",
       "      <td>0.337552</td>\n",
       "      <td>11.828446</td>\n",
       "    </tr>\n",
       "    <tr>\n",
       "      <th>min</th>\n",
       "      <td>0.000000</td>\n",
       "      <td>0.000000</td>\n",
       "      <td>0.000000</td>\n",
       "      <td>0.000000</td>\n",
       "      <td>0.000000</td>\n",
       "      <td>0.000000</td>\n",
       "      <td>0.078000</td>\n",
       "      <td>21.000000</td>\n",
       "    </tr>\n",
       "    <tr>\n",
       "      <th>25%</th>\n",
       "      <td>1.000000</td>\n",
       "      <td>99.000000</td>\n",
       "      <td>64.000000</td>\n",
       "      <td>0.000000</td>\n",
       "      <td>0.000000</td>\n",
       "      <td>27.100000</td>\n",
       "      <td>0.248000</td>\n",
       "      <td>24.000000</td>\n",
       "    </tr>\n",
       "    <tr>\n",
       "      <th>50%</th>\n",
       "      <td>3.000000</td>\n",
       "      <td>116.000000</td>\n",
       "      <td>70.000000</td>\n",
       "      <td>23.000000</td>\n",
       "      <td>36.000000</td>\n",
       "      <td>32.000000</td>\n",
       "      <td>0.383000</td>\n",
       "      <td>29.000000</td>\n",
       "    </tr>\n",
       "    <tr>\n",
       "      <th>75%</th>\n",
       "      <td>6.000000</td>\n",
       "      <td>140.000000</td>\n",
       "      <td>80.000000</td>\n",
       "      <td>32.000000</td>\n",
       "      <td>123.500000</td>\n",
       "      <td>36.550000</td>\n",
       "      <td>0.647000</td>\n",
       "      <td>40.000000</td>\n",
       "    </tr>\n",
       "    <tr>\n",
       "      <th>max</th>\n",
       "      <td>17.000000</td>\n",
       "      <td>198.000000</td>\n",
       "      <td>122.000000</td>\n",
       "      <td>99.000000</td>\n",
       "      <td>846.000000</td>\n",
       "      <td>67.100000</td>\n",
       "      <td>2.420000</td>\n",
       "      <td>81.000000</td>\n",
       "    </tr>\n",
       "  </tbody>\n",
       "</table>\n",
       "</div>"
      ],
      "text/plain": [
       "              PRG          PL          PR          SK          TS         M11  \\\n",
       "count  599.000000  599.000000  599.000000  599.000000  599.000000  599.000000   \n",
       "mean     3.824708  120.153589   68.732888   20.562604   79.460768   31.920033   \n",
       "std      3.362839   32.682364   19.335675   16.017622  116.576176    8.008227   \n",
       "min      0.000000    0.000000    0.000000    0.000000    0.000000    0.000000   \n",
       "25%      1.000000   99.000000   64.000000    0.000000    0.000000   27.100000   \n",
       "50%      3.000000  116.000000   70.000000   23.000000   36.000000   32.000000   \n",
       "75%      6.000000  140.000000   80.000000   32.000000  123.500000   36.550000   \n",
       "max     17.000000  198.000000  122.000000   99.000000  846.000000   67.100000   \n",
       "\n",
       "              BD2         Age  \n",
       "count  599.000000  599.000000  \n",
       "mean     0.481187   33.290484  \n",
       "std      0.337552   11.828446  \n",
       "min      0.078000   21.000000  \n",
       "25%      0.248000   24.000000  \n",
       "50%      0.383000   29.000000  \n",
       "75%      0.647000   40.000000  \n",
       "max      2.420000   81.000000  "
      ]
     },
     "execution_count": 11,
     "metadata": {},
     "output_type": "execute_result"
    }
   ],
   "source": [
    "# Summary Statistics\n",
    "train_df[numerical_cols].describe()"
   ]
  },
  {
   "cell_type": "markdown",
   "metadata": {
    "id": "hV66LzShAS-3"
   },
   "source": [
    "### Visualize the Summary statistics\n",
    "Numerical columns"
   ]
  },
  {
   "cell_type": "code",
   "execution_count": 12,
   "metadata": {
    "colab": {
     "base_uri": "https://localhost:8080/",
     "height": 807
    },
    "id": "aWz89fBJARQf",
    "outputId": "45698ee4-cbf3-47e1-8840-857ba39832de"
   },
   "outputs": [
    {
     "data": {
      "image/png": "[encoded data removed]",
      "text/plain": [
       "<Figure size 1200x800 with 8 Axes>"
      ]
     },
     "metadata": {},
     "output_type": "display_data"
    }
   ],
   "source": [
    "# Histograms\n",
    "plt.figure(figsize=(12, 8))\n",
    "for i, col in enumerate(numerical_cols):\n",
    "    plt.subplot(3, 3, i + 1)\n",
    "    sns.histplot(train_df[col], kde=True)\n",
    "    plt.title(col)\n",
    "plt.tight_layout()\n",
    "plt.show()"
   ]
  },
  {
   "cell_type": "markdown",
   "metadata": {
    "id": "g0j3grThZzc8"
   },
   "source": [
    "### Observations from the summary statistics and histograms:\n",
    "\n",
    "  1. Plasma glucose (PRG) has a mean of approximately 3.82, with values ranging from 0 to 17. The distribution of PRG is right-skewed, with more values concentrated towards lower values.\n",
    "\n",
    "  2. Blood Work Result-1 (PL) has a mean of approximately 120.15, with values ranging from 0 to 198. The distribution of PL appears to be somewhat normally distributed, with a few outliers towards higher values.\n",
    "\n",
    "  3. Blood Pressure (PR) has a mean of approximately 68.73, with values ranging from 0 to 122. The distribution of PR seems to be slightly right-skewed, with more values towards lower blood pressure levels.\n",
    "\n",
    "  4. Blood Work Result-2 (SK) has a mean of approximately 20.56, with values ranging from 0 to 99. The distribution of SK is heavily right-skewed, with a concentration of values towards zero.\n",
    "\n",
    "  5. Blood Work Result-3 (TS) has a mean of approximately 79.46, with values ranging from 0 to 846. The distribution of TS is highly right-skewed, with a few extreme values leading to a long tail.\n",
    "\n",
    "  6. Body mass index (M11) has a mean of approximately 31.92, with values ranging from 0 to 67.1. The distribution of M11 appears to be approximately normally distributed.\n",
    "\n",
    "  7. Blood Work Result-4 (BD2) has a mean of approximately 0.48, with values ranging from 0.078 to 2.42. The distribution of BD2 is right-skewed, with more values towards lower levels.\n",
    "\n",
    "  8. Age has a mean of approximately 33.29, with values ranging from 21 to 81. The distribution of Age is right-skewed, with more values towards younger ages."
   ]
  },
  {
   "cell_type": "markdown",
   "metadata": {
    "id": "lxeBagULFPud"
   },
   "source": [
    "## Univariate Analysis for Categorical Variable\n",
    "### Frequency count of 'Sepssis'"
   ]
  },
  {
   "cell_type": "code",
   "execution_count": 13,
   "metadata": {
    "colab": {
     "base_uri": "https://localhost:8080/"
    },
    "id": "q6K_ubdzM1LQ",
    "outputId": "b9569a8f-9308-4a9d-9a3d-1cad6557e46f"
   },
   "outputs": [
    {
     "name": "stdout",
     "output_type": "stream",
     "text": [
      "Positive Count: 208\n",
      "Negative Count: 391\n"
     ]
    }
   ],
   "source": [
    "# Count the occurrences of 'Positive' and 'Negative'\n",
    "value_counts = train_df['Sepssis'].value_counts()\n",
    "\n",
    "positive_count = value_counts['Positive']\n",
    "negative_count = value_counts['Negative']\n",
    "\n",
    "print(\"Positive Count:\", positive_count)\n",
    "print(\"Negative Count:\", negative_count)"
   ]
  },
  {
   "cell_type": "code",
   "execution_count": 14,
   "metadata": {
    "colab": {
     "base_uri": "https://localhost:8080/",
     "height": 564
    },
    "id": "jc0R2l9aFQsH",
    "outputId": "7cb27204-7baa-49e3-a22b-be99970eb84f"
   },
   "outputs": [
    {
     "data": {
      "image/png": "[encoded data removed]",
      "text/plain": [
       "<Figure size 800x600 with 1 Axes>"
      ]
     },
     "metadata": {},
     "output_type": "display_data"
    }
   ],
   "source": [
    "# Create a bar plot\n",
    "plt.figure(figsize=(8, 6))\n",
    "sns.barplot(x=['Positive', 'Negative'], y=[positive_count, negative_count])\n",
    "plt.title('Distribution of Positive and Negative Counts')\n",
    "plt.xlabel('Sepssis')\n",
    "plt.ylabel('Count')\n",
    "plt.show()\n",
    "\n",
    "\n",
    "\n",
    "\n"
   ]
  },
  {
   "cell_type": "code",
   "execution_count": 15,
   "metadata": {
    "colab": {
     "base_uri": "https://localhost:8080/",
     "height": 521
    },
    "id": "WVVr42P6RWwx",
    "outputId": "d9da70d7-5ef0-4b1d-9265-1fe205819adf"
   },
   "outputs": [
    {
     "data": {
      "image/png": "[encoded data removed]",
      "text/plain": [
       "<Figure size 600x600 with 1 Axes>"
      ]
     },
     "metadata": {},
     "output_type": "display_data"
    }
   ],
   "source": [
    "# Data\n",
    "positive_count = 208\n",
    "negative_count = 391\n",
    "\n",
    "# Create a list of values and corresponding labels\n",
    "counts = [positive_count, negative_count]\n",
    "labels = ['Positive', 'Negative']\n",
    "colors = ['lightcoral', 'lightskyblue']\n",
    "\n",
    "# Create an exploded pie chart\n",
    "plt.figure(figsize=(6, 6))\n",
    "plt.pie(counts, labels=labels, colors=colors, autopct='%1.1f%%', startangle=90, explode=(0.1, 0), shadow=True)\n",
    "plt.title(\"Distribution of Sepssis in ICU Patients\")\n",
    "plt.axis('equal')  # Equal aspect ratio ensures that pie is drawn as a circle.\n",
    "plt.show()"
   ]
  },
  {
   "cell_type": "markdown",
   "metadata": {
    "id": "CHcvLVQaPKeu"
   },
   "source": [
    "From the figures, we can observe that there are 208 patients in the ICU who have been diagnosed with Sepssis (Positive Count), and 391 patients in the ICU who have not been diagnosed with Sepssis (Negative Count). This indicates that Sepssis is present in a smaller proportion of ICU patients compared to those who do not have Sepssis.\n",
    "\n",
    "The distribution shows that the number of patients without Sepssis is higher than the number of patients with Sepssis. This suggests that Sepssis is not a very common condition among patients in the ICU based on the available dataset."
   ]
  },
  {
   "cell_type": "markdown",
   "metadata": {
    "id": "Yhe1prjcbIg1"
   },
   "source": [
    "##  Bivariate and Multivariate Analysis:\n",
    "\n",
    "Bivariate analysis involves exploring the relationship between two variables, while multivariate analysis examines the relationships among multiple variables simultaneously. We will visualize the relationships between features and the target variable \"Sepssis.\""
   ]
  },
  {
   "cell_type": "markdown",
   "metadata": {
    "id": "iqa7lBCzbl09"
   },
   "source": [
    "### Visualize the Numerical variables against 'Sepssis'"
   ]
  },
  {
   "cell_type": "code",
   "execution_count": 16,
   "metadata": {
    "colab": {
     "base_uri": "https://localhost:8080/",
     "height": 607
    },
    "id": "1ncPXFTuQfF1",
    "outputId": "8391e11e-c392-4c81-fc07-1a3323c2a77f"
   },
   "outputs": [
    {
     "data": {
      "image/png": "[encoded data removed]",
      "text/plain": [
       "<Figure size 1200x600 with 8 Axes>"
      ]
     },
     "metadata": {},
     "output_type": "display_data"
    }
   ],
   "source": [
    "# Box plots for numerical variables against 'Sepssis'\n",
    "plt.figure(figsize=(12, 6))\n",
    "for i, col in enumerate(numerical_cols):\n",
    "    plt.subplot(2, 4, i + 1)\n",
    "    sns.boxplot(x='Sepssis', y=col, data=train_df)\n",
    "    plt.title(f\"{col} vs Sepssis\")\n",
    "plt.tight_layout()\n",
    "plt.show()"
   ]
  },
  {
   "cell_type": "markdown",
   "metadata": {
    "id": "9sRx3Om_czK9"
   },
   "source": [
    "### Observations from the box plots of numerical variables against 'Sepssis':\n",
    "\n",
    "  1. Plasma glucose (PRG) vs Sepssis: The median value of PRG for patients with Sepsis (Positive) appears slightly higher than for those without Sepsis (Negative). The box plot shows that the interquartile range (IQR) for the Positive group is slightly larger, indicating higher variability in PRG values among patients with Sepsis.\n",
    "\n",
    "  2. Blood Work Result-1 (PL) vs Sepssis: The median PL value for patients with Sepsis is comparable to that of patients without Sepsis. However, the IQR for the Positive group is narrower, suggesting less variability in PL values for patients with Sepsis.\n",
    "\n",
    "  3. Blood Pressure (PR) vs Sepssis: The median PR value for both groups is almost the same. The box plots show similar IQRs for patients with and without Sepsis, indicating similar variability in blood pressure values.\n",
    "\n",
    "  4. Blood Work Result-2 (SK) vs Sepssis: The median SK value for patients with Sepsis is slightly higher than for patients without Sepsis. The box plot shows a wider IQR for the Positive group, suggesting higher variability in SK values among patients with Sepsis.\n",
    "\n",
    "  5. Blood Work Result-3 (TS) vs Sepssis: The median TS value for patients with Sepsis is notably higher than for patients without Sepsis. The box plot indicates that patients with Sepsis generally have higher TS values, and the IQR for the Positive group is wider, showing greater variability.\n",
    "\n",
    "  6. Body mass index (M11) vs Sepssis: The median M11 value for both groups is almost the same. The box plots show similar IQRs for patients with and without Sepsis, indicating similar variability in BMI values.\n",
    "\n",
    "  7. Blood Work Result-4 (BD2) vs Sepssis: The median BD2 value for patients with Sepsis is comparable to that of patients without Sepsis. The box plots indicate similar IQRs for both groups, suggesting similar variability in BD2 values.\n",
    "\n",
    "  8. Age vs Sepssis: The median age for patients with Sepsis is slightly higher than for patients without Sepsis. The box plot shows that the IQR for the Positive group is slightly larger, indicating higher variability in ages among patients with Sepsis."
   ]
  },
  {
   "cell_type": "markdown",
   "metadata": {
    "id": "ZFt75dVIc9bt"
   },
   "source": [
    "### Visualize categorical variables against 'Sepssis'"
   ]
  },
  {
   "cell_type": "code",
   "execution_count": 17,
   "metadata": {
    "colab": {
     "base_uri": "https://localhost:8080/",
     "height": 407
    },
    "id": "JBIjdcpKc-CK",
    "outputId": "954ecb3b-a6b8-41fe-dcbf-a4f7d4c1b444"
   },
   "outputs": [
    {
     "data": {
      "image/png": "[encoded data removed]",
      "text/plain": [
       "<Figure size 600x400 with 1 Axes>"
      ]
     },
     "metadata": {},
     "output_type": "display_data"
    }
   ],
   "source": [
    "# Bar plots for categorical variables against 'Sepssis'\n",
    "categorical_cols = ['Insurance']\n",
    "\n",
    "plt.figure(figsize=(6, 4))\n",
    "for i, col in enumerate(categorical_cols):\n",
    "    plt.subplot(1, 1, i + 1)\n",
    "    sns.countplot(x=col, hue='Sepssis', data=train_df)\n",
    "    plt.title(f\"{col} vs Sepssis\")\n",
    "plt.tight_layout()\n",
    "plt.show()"
   ]
  },
  {
   "cell_type": "markdown",
   "metadata": {
    "id": "xSNHqdmKdSJa"
   },
   "source": [
    "### Observations from the bar plots of the categorical variable 'Insurance' against 'Sepssis':\n",
    "\n",
    "The bar plot shows the distribution of patients with Positive (Sepsis) and Negative (Non-Sepsis) values for the 'Insurance' category.\n",
    "\n",
    "  - Insurance vs Sepssis: The 'Insurance' category has two levels, and the plot displays the count of patients with each insurance type for both groups.\n",
    "For patients with Sepsis (Positive group), there are two bars representing the count of patients with each insurance type. The height of each bar corresponds to the number of patients in the Positive group with that specific insurance type.\n",
    "  - For patients without Sepsis (Negative group), there are also two bars representing the count of patients with each insurance type. The height of each bar corresponds to the number of patients in the Negative group with that specific insurance type."
   ]
  },
  {
   "cell_type": "markdown",
   "metadata": {
    "id": "OgU9QxtldSNa"
   },
   "source": [
    "### Correlation Heatmap for numerical variables\n",
    "1. Creating a mask for the lower triangle:\n",
    "  The mask is a boolean matrix with the same shape as the correlation matrix. The np.triu() function sets the upper triangle of the matrix to True (1) and the lower triangle to False (0). By using np.ones_like(), we create a matrix of ones with the same shape as the correlation matrix. Finally, by specifying dtype=bool, we convert all the ones in the matrix to True and all other values to False.\n",
    "\n",
    "2. We set the figure size for the heatmap and then use Seaborn's heatmap() function to plot the correlation matrix. The annot=True argument adds the numerical values to the heatmap cells. The cmap='coolwarm' argument sets the color map for the heatmap, where cooler colors represent negative correlation, and warmer colors represent positive correlation. The center=0 argument sets the center of the color map to 0, making 0 correlation appear as a white cell. The mask=mask argument specifies the mask created earlier to display only the lower triangle of the heatmap."
   ]
  },
  {
   "cell_type": "code",
   "execution_count": 18,
   "metadata": {
    "colab": {
     "base_uri": "https://localhost:8080/",
     "height": 545
    },
    "id": "apTK7OrUgtUn",
    "outputId": "7e6688be-fd45-4c04-861c-1b396a9abbc1"
   },
   "outputs": [
    {
     "data": {
      "image/png": "[encoded data removed]",
      "text/plain": [
       "<Figure size 800x600 with 2 Axes>"
      ]
     },
     "metadata": {},
     "output_type": "display_data"
    }
   ],
   "source": [
    "# Correlation Heatmap for numerical variables\n",
    "correlation_matrix = train_df[numerical_cols].corr()\n",
    "\n",
    "# Mask to display only the lower triangle of the heatmap\n",
    "mask = np.triu(np.ones_like(correlation_matrix, dtype=bool))\n",
    "\n",
    "plt.figure(figsize=(8, 6))\n",
    "sns.heatmap(correlation_matrix, annot=True, cmap='coolwarm', center=0, mask=mask)\n",
    "plt.title(\"Correlation Heatmap\")\n",
    "plt.show()"
   ]
  },
  {
   "cell_type": "markdown",
   "metadata": {
    "id": "qTFuYAWzdb-h"
   },
   "source": [
    "### From the output of the correlation heatmap, we can make the following observations:\n",
    "\n",
    "  1. Most of the correlations are relatively weak: The majority of the numerical variables have correlations close to 0. This suggests that there is no strong linear relationship between these variables.\n",
    "\n",
    "  2. Positive correlations: Some variables have positive correlations, which means that as one variable increases, the other tends to increase as well. For example, there is a positive correlation between \"SK\" and \"M11.\"\n",
    "\n",
    "  3. Negative correlations: There are also negative correlations between certain variables, indicating that as one variable increases, the other tends to decrease.\n",
    "\n",
    "  4. Strong correlation between \"Age\" and \"PRG\": \"Age\" and \"PRG\" have a relatively stronger positive correlation compared to other pairs of variables, suggesting that there might be some relationship between these two variables."
   ]
  },
  {
   "cell_type": "markdown",
   "metadata": {
    "id": "2wZQgVSbnuOm"
   },
   "source": [
    "# Feature Processing & Engineering"
   ]
  },
  {
   "cell_type": "markdown",
   "metadata": {
    "id": "5WBAm3Q9oEAL"
   },
   "source": [
    "## Data Cleaning\n"
   ]
  },
  {
   "cell_type": "code",
   "execution_count": 19,
   "metadata": {
    "id": "JWGYl7uljgTb"
   },
   "outputs": [],
   "source": [
    "# Find percentage missing values in both datasets\n",
    "percent_missing_train = (train_df.isnull().sum()/train_df.shape[0])*100\n",
    "percent_missing_test = (test_df.isnull().sum()/test_df.shape[0])*100"
   ]
  },
  {
   "cell_type": "code",
   "execution_count": 20,
   "metadata": {
    "colab": {
     "base_uri": "https://localhost:8080/"
    },
    "id": "dVF-dl7Mo54C",
    "outputId": "9d91c1d7-2bc5-4a48-bd93-9b8a78c6db7c"
   },
   "outputs": [
    {
     "name": "stdout",
     "output_type": "stream",
     "text": [
      "Percent missing train\n"
     ]
    },
    {
     "data": {
      "text/plain": [
       "ID           0.0\n",
       "PRG          0.0\n",
       "PL           0.0\n",
       "PR           0.0\n",
       "SK           0.0\n",
       "TS           0.0\n",
       "M11          0.0\n",
       "BD2          0.0\n",
       "Age          0.0\n",
       "Insurance    0.0\n",
       "Sepssis      0.0\n",
       "dtype: float64"
      ]
     },
     "execution_count": 20,
     "metadata": {},
     "output_type": "execute_result"
    }
   ],
   "source": [
    "print('Percent missing train')\n",
    "percent_missing_train"
   ]
  },
  {
   "cell_type": "code",
   "execution_count": 21,
   "metadata": {
    "colab": {
     "base_uri": "https://localhost:8080/"
    },
    "id": "B736onq-qBwt",
    "outputId": "1364f207-68d2-4b95-96df-c81d80b6d818"
   },
   "outputs": [
    {
     "name": "stdout",
     "output_type": "stream",
     "text": [
      "Percent missing test\n"
     ]
    },
    {
     "data": {
      "text/plain": [
       "ID           0.0\n",
       "PRG          0.0\n",
       "PL           0.0\n",
       "PR           0.0\n",
       "SK           0.0\n",
       "TS           0.0\n",
       "M11          0.0\n",
       "BD2          0.0\n",
       "Age          0.0\n",
       "Insurance    0.0\n",
       "dtype: float64"
      ]
     },
     "execution_count": 21,
     "metadata": {},
     "output_type": "execute_result"
    }
   ],
   "source": [
    "print('Percent missing test')\n",
    "percent_missing_test"
   ]
  },
  {
   "cell_type": "markdown",
   "metadata": {
    "id": "Axbf1P3MqW1n"
   },
   "source": [
    "### Finding duplicate values in both datasets:"
   ]
  },
  {
   "cell_type": "code",
   "execution_count": 22,
   "metadata": {
    "colab": {
     "base_uri": "https://localhost:8080/"
    },
    "id": "XdrSKjk_qd5R",
    "outputId": "4da863a5-8974-4b5b-85fd-f575a4b5cf93"
   },
   "outputs": [
    {
     "name": "stdout",
     "output_type": "stream",
     "text": [
      "Duplicate entries in train_df: 0\n"
     ]
    }
   ],
   "source": [
    "# Find duplicate values in train_df\n",
    "print(f'Duplicate entries in train_df:',(train_df.duplicated().sum()))"
   ]
  },
  {
   "cell_type": "code",
   "execution_count": 23,
   "metadata": {
    "colab": {
     "base_uri": "https://localhost:8080/"
    },
    "id": "hTmPg7BIrum5",
    "outputId": "ab0521c1-7524-464d-c74e-ac594941e930"
   },
   "outputs": [
    {
     "name": "stdout",
     "output_type": "stream",
     "text": [
      "Duplicate entries in test_df: 0\n"
     ]
    }
   ],
   "source": [
    "# Find duplicate values in test_df\n",
    "print(f'Duplicate entries in test_df:',(train_df.duplicated().sum()))"
   ]
  },
  {
   "cell_type": "markdown",
   "metadata": {
    "id": "sMwZ_bxF35J5"
   },
   "source": [
    "## Drop ID and Insurance features from both datasets since they have no significace in our analysis"
   ]
  },
  {
   "cell_type": "code",
   "execution_count": 24,
   "metadata": {
    "id": "_xU8uThk4NXb"
   },
   "outputs": [],
   "source": [
    "# Drop 'ID' and 'Insurance' columns from both datasets\n",
    "train_df.drop(columns=['ID', 'Insurance'], inplace=True)\n",
    "test_df.drop(columns=['ID', 'Insurance'], inplace=True)"
   ]
  },
  {
   "cell_type": "code",
   "execution_count": 25,
   "metadata": {
    "colab": {
     "base_uri": "https://localhost:8080/",
     "height": 424
    },
    "id": "6LlwP80x6AgJ",
    "outputId": "4d169934-18fd-4bcb-b1de-51401012524a"
   },
   "outputs": [
    {
     "data": {
      "text/html": [
       "<div>\n",
       "<style scoped>\n",
       "    .dataframe tbody tr th:only-of-type {\n",
       "        vertical-align: middle;\n",
       "    }\n",
       "\n",
       "    .dataframe tbody tr th {\n",
       "        vertical-align: top;\n",
       "    }\n",
       "\n",
       "    .dataframe thead th {\n",
       "        text-align: right;\n",
       "    }\n",
       "</style>\n",
       "<table border=\"1\" class=\"dataframe\">\n",
       "  <thead>\n",
       "    <tr style=\"text-align: right;\">\n",
       "      <th></th>\n",
       "      <th>PRG</th>\n",
       "      <th>PL</th>\n",
       "      <th>PR</th>\n",
       "      <th>SK</th>\n",
       "      <th>TS</th>\n",
       "      <th>M11</th>\n",
       "      <th>BD2</th>\n",
       "      <th>Age</th>\n",
       "      <th>Sepssis</th>\n",
       "    </tr>\n",
       "  </thead>\n",
       "  <tbody>\n",
       "    <tr>\n",
       "      <th>0</th>\n",
       "      <td>6</td>\n",
       "      <td>148</td>\n",
       "      <td>72</td>\n",
       "      <td>35</td>\n",
       "      <td>0</td>\n",
       "      <td>33.6</td>\n",
       "      <td>0.627</td>\n",
       "      <td>50</td>\n",
       "      <td>Positive</td>\n",
       "    </tr>\n",
       "    <tr>\n",
       "      <th>1</th>\n",
       "      <td>1</td>\n",
       "      <td>85</td>\n",
       "      <td>66</td>\n",
       "      <td>29</td>\n",
       "      <td>0</td>\n",
       "      <td>26.6</td>\n",
       "      <td>0.351</td>\n",
       "      <td>31</td>\n",
       "      <td>Negative</td>\n",
       "    </tr>\n",
       "    <tr>\n",
       "      <th>2</th>\n",
       "      <td>8</td>\n",
       "      <td>183</td>\n",
       "      <td>64</td>\n",
       "      <td>0</td>\n",
       "      <td>0</td>\n",
       "      <td>23.3</td>\n",
       "      <td>0.672</td>\n",
       "      <td>32</td>\n",
       "      <td>Positive</td>\n",
       "    </tr>\n",
       "    <tr>\n",
       "      <th>3</th>\n",
       "      <td>1</td>\n",
       "      <td>89</td>\n",
       "      <td>66</td>\n",
       "      <td>23</td>\n",
       "      <td>94</td>\n",
       "      <td>28.1</td>\n",
       "      <td>0.167</td>\n",
       "      <td>21</td>\n",
       "      <td>Negative</td>\n",
       "    </tr>\n",
       "    <tr>\n",
       "      <th>4</th>\n",
       "      <td>0</td>\n",
       "      <td>137</td>\n",
       "      <td>40</td>\n",
       "      <td>35</td>\n",
       "      <td>168</td>\n",
       "      <td>43.1</td>\n",
       "      <td>2.288</td>\n",
       "      <td>33</td>\n",
       "      <td>Positive</td>\n",
       "    </tr>\n",
       "    <tr>\n",
       "      <th>...</th>\n",
       "      <td>...</td>\n",
       "      <td>...</td>\n",
       "      <td>...</td>\n",
       "      <td>...</td>\n",
       "      <td>...</td>\n",
       "      <td>...</td>\n",
       "      <td>...</td>\n",
       "      <td>...</td>\n",
       "      <td>...</td>\n",
       "    </tr>\n",
       "    <tr>\n",
       "      <th>594</th>\n",
       "      <td>6</td>\n",
       "      <td>123</td>\n",
       "      <td>72</td>\n",
       "      <td>45</td>\n",
       "      <td>230</td>\n",
       "      <td>33.6</td>\n",
       "      <td>0.733</td>\n",
       "      <td>34</td>\n",
       "      <td>Negative</td>\n",
       "    </tr>\n",
       "    <tr>\n",
       "      <th>595</th>\n",
       "      <td>0</td>\n",
       "      <td>188</td>\n",
       "      <td>82</td>\n",
       "      <td>14</td>\n",
       "      <td>185</td>\n",
       "      <td>32.0</td>\n",
       "      <td>0.682</td>\n",
       "      <td>22</td>\n",
       "      <td>Positive</td>\n",
       "    </tr>\n",
       "    <tr>\n",
       "      <th>596</th>\n",
       "      <td>0</td>\n",
       "      <td>67</td>\n",
       "      <td>76</td>\n",
       "      <td>0</td>\n",
       "      <td>0</td>\n",
       "      <td>45.3</td>\n",
       "      <td>0.194</td>\n",
       "      <td>46</td>\n",
       "      <td>Negative</td>\n",
       "    </tr>\n",
       "    <tr>\n",
       "      <th>597</th>\n",
       "      <td>1</td>\n",
       "      <td>89</td>\n",
       "      <td>24</td>\n",
       "      <td>19</td>\n",
       "      <td>25</td>\n",
       "      <td>27.8</td>\n",
       "      <td>0.559</td>\n",
       "      <td>21</td>\n",
       "      <td>Negative</td>\n",
       "    </tr>\n",
       "    <tr>\n",
       "      <th>598</th>\n",
       "      <td>1</td>\n",
       "      <td>173</td>\n",
       "      <td>74</td>\n",
       "      <td>0</td>\n",
       "      <td>0</td>\n",
       "      <td>36.8</td>\n",
       "      <td>0.088</td>\n",
       "      <td>38</td>\n",
       "      <td>Positive</td>\n",
       "    </tr>\n",
       "  </tbody>\n",
       "</table>\n",
       "<p>599 rows × 9 columns</p>\n",
       "</div>"
      ],
      "text/plain": [
       "     PRG   PL  PR  SK   TS   M11    BD2  Age   Sepssis\n",
       "0      6  148  72  35    0  33.6  0.627   50  Positive\n",
       "1      1   85  66  29    0  26.6  0.351   31  Negative\n",
       "2      8  183  64   0    0  23.3  0.672   32  Positive\n",
       "3      1   89  66  23   94  28.1  0.167   21  Negative\n",
       "4      0  137  40  35  168  43.1  2.288   33  Positive\n",
       "..   ...  ...  ..  ..  ...   ...    ...  ...       ...\n",
       "594    6  123  72  45  230  33.6  0.733   34  Negative\n",
       "595    0  188  82  14  185  32.0  0.682   22  Positive\n",
       "596    0   67  76   0    0  45.3  0.194   46  Negative\n",
       "597    1   89  24  19   25  27.8  0.559   21  Negative\n",
       "598    1  173  74   0    0  36.8  0.088   38  Positive\n",
       "\n",
       "[599 rows x 9 columns]"
      ]
     },
     "execution_count": 25,
     "metadata": {},
     "output_type": "execute_result"
    }
   ],
   "source": [
    "train_df"
   ]
  },
  {
   "cell_type": "code",
   "execution_count": 26,
   "metadata": {
    "colab": {
     "base_uri": "https://localhost:8080/",
     "height": 424
    },
    "id": "66eWzAo46Ixp",
    "outputId": "a936bafb-7993-43e2-f5a2-01785c39b31f"
   },
   "outputs": [
    {
     "data": {
      "text/html": [
       "<div>\n",
       "<style scoped>\n",
       "    .dataframe tbody tr th:only-of-type {\n",
       "        vertical-align: middle;\n",
       "    }\n",
       "\n",
       "    .dataframe tbody tr th {\n",
       "        vertical-align: top;\n",
       "    }\n",
       "\n",
       "    .dataframe thead th {\n",
       "        text-align: right;\n",
       "    }\n",
       "</style>\n",
       "<table border=\"1\" class=\"dataframe\">\n",
       "  <thead>\n",
       "    <tr style=\"text-align: right;\">\n",
       "      <th></th>\n",
       "      <th>PRG</th>\n",
       "      <th>PL</th>\n",
       "      <th>PR</th>\n",
       "      <th>SK</th>\n",
       "      <th>TS</th>\n",
       "      <th>M11</th>\n",
       "      <th>BD2</th>\n",
       "      <th>Age</th>\n",
       "    </tr>\n",
       "  </thead>\n",
       "  <tbody>\n",
       "    <tr>\n",
       "      <th>0</th>\n",
       "      <td>1</td>\n",
       "      <td>109</td>\n",
       "      <td>38</td>\n",
       "      <td>18</td>\n",
       "      <td>120</td>\n",
       "      <td>23.1</td>\n",
       "      <td>0.407</td>\n",
       "      <td>26</td>\n",
       "    </tr>\n",
       "    <tr>\n",
       "      <th>1</th>\n",
       "      <td>1</td>\n",
       "      <td>108</td>\n",
       "      <td>88</td>\n",
       "      <td>19</td>\n",
       "      <td>0</td>\n",
       "      <td>27.1</td>\n",
       "      <td>0.400</td>\n",
       "      <td>24</td>\n",
       "    </tr>\n",
       "    <tr>\n",
       "      <th>2</th>\n",
       "      <td>6</td>\n",
       "      <td>96</td>\n",
       "      <td>0</td>\n",
       "      <td>0</td>\n",
       "      <td>0</td>\n",
       "      <td>23.7</td>\n",
       "      <td>0.190</td>\n",
       "      <td>28</td>\n",
       "    </tr>\n",
       "    <tr>\n",
       "      <th>3</th>\n",
       "      <td>1</td>\n",
       "      <td>124</td>\n",
       "      <td>74</td>\n",
       "      <td>36</td>\n",
       "      <td>0</td>\n",
       "      <td>27.8</td>\n",
       "      <td>0.100</td>\n",
       "      <td>30</td>\n",
       "    </tr>\n",
       "    <tr>\n",
       "      <th>4</th>\n",
       "      <td>7</td>\n",
       "      <td>150</td>\n",
       "      <td>78</td>\n",
       "      <td>29</td>\n",
       "      <td>126</td>\n",
       "      <td>35.2</td>\n",
       "      <td>0.692</td>\n",
       "      <td>54</td>\n",
       "    </tr>\n",
       "    <tr>\n",
       "      <th>...</th>\n",
       "      <td>...</td>\n",
       "      <td>...</td>\n",
       "      <td>...</td>\n",
       "      <td>...</td>\n",
       "      <td>...</td>\n",
       "      <td>...</td>\n",
       "      <td>...</td>\n",
       "      <td>...</td>\n",
       "    </tr>\n",
       "    <tr>\n",
       "      <th>164</th>\n",
       "      <td>10</td>\n",
       "      <td>101</td>\n",
       "      <td>76</td>\n",
       "      <td>48</td>\n",
       "      <td>180</td>\n",
       "      <td>32.9</td>\n",
       "      <td>0.171</td>\n",
       "      <td>63</td>\n",
       "    </tr>\n",
       "    <tr>\n",
       "      <th>165</th>\n",
       "      <td>2</td>\n",
       "      <td>122</td>\n",
       "      <td>70</td>\n",
       "      <td>27</td>\n",
       "      <td>0</td>\n",
       "      <td>36.8</td>\n",
       "      <td>0.340</td>\n",
       "      <td>27</td>\n",
       "    </tr>\n",
       "    <tr>\n",
       "      <th>166</th>\n",
       "      <td>5</td>\n",
       "      <td>121</td>\n",
       "      <td>72</td>\n",
       "      <td>23</td>\n",
       "      <td>112</td>\n",
       "      <td>26.2</td>\n",
       "      <td>0.245</td>\n",
       "      <td>30</td>\n",
       "    </tr>\n",
       "    <tr>\n",
       "      <th>167</th>\n",
       "      <td>1</td>\n",
       "      <td>126</td>\n",
       "      <td>60</td>\n",
       "      <td>0</td>\n",
       "      <td>0</td>\n",
       "      <td>30.1</td>\n",
       "      <td>0.349</td>\n",
       "      <td>47</td>\n",
       "    </tr>\n",
       "    <tr>\n",
       "      <th>168</th>\n",
       "      <td>1</td>\n",
       "      <td>93</td>\n",
       "      <td>70</td>\n",
       "      <td>31</td>\n",
       "      <td>0</td>\n",
       "      <td>30.4</td>\n",
       "      <td>0.315</td>\n",
       "      <td>23</td>\n",
       "    </tr>\n",
       "  </tbody>\n",
       "</table>\n",
       "<p>169 rows × 8 columns</p>\n",
       "</div>"
      ],
      "text/plain": [
       "     PRG   PL  PR  SK   TS   M11    BD2  Age\n",
       "0      1  109  38  18  120  23.1  0.407   26\n",
       "1      1  108  88  19    0  27.1  0.400   24\n",
       "2      6   96   0   0    0  23.7  0.190   28\n",
       "3      1  124  74  36    0  27.8  0.100   30\n",
       "4      7  150  78  29  126  35.2  0.692   54\n",
       "..   ...  ...  ..  ..  ...   ...    ...  ...\n",
       "164   10  101  76  48  180  32.9  0.171   63\n",
       "165    2  122  70  27    0  36.8  0.340   27\n",
       "166    5  121  72  23  112  26.2  0.245   30\n",
       "167    1  126  60   0    0  30.1  0.349   47\n",
       "168    1   93  70  31    0  30.4  0.315   23\n",
       "\n",
       "[169 rows x 8 columns]"
      ]
     },
     "execution_count": 26,
     "metadata": {},
     "output_type": "execute_result"
    }
   ],
   "source": [
    "test_df"
   ]
  },
  {
   "cell_type": "markdown",
   "metadata": {
    "id": "jyS2Zg5z84mI"
   },
   "source": [
    "## Separate the target label 'Sepssis' from the features in train_df"
   ]
  },
  {
   "cell_type": "code",
   "execution_count": 27,
   "metadata": {
    "id": "CJpsI66-845d"
   },
   "outputs": [],
   "source": [
    "# Separate the target label 'Sepssis' from the features in train_df\n",
    "X = train_df.drop(columns=['Sepssis'])\n",
    "y = train_df['Sepssis']"
   ]
  },
  {
   "cell_type": "code",
   "execution_count": 28,
   "metadata": {
    "colab": {
     "base_uri": "https://localhost:8080/",
     "height": 206
    },
    "id": "cdYddDZJ9FC_",
    "outputId": "fa45f977-da39-48d3-dd4a-67b8c1913686"
   },
   "outputs": [
    {
     "data": {
      "text/html": [
       "<div>\n",
       "<style scoped>\n",
       "    .dataframe tbody tr th:only-of-type {\n",
       "        vertical-align: middle;\n",
       "    }\n",
       "\n",
       "    .dataframe tbody tr th {\n",
       "        vertical-align: top;\n",
       "    }\n",
       "\n",
       "    .dataframe thead th {\n",
       "        text-align: right;\n",
       "    }\n",
       "</style>\n",
       "<table border=\"1\" class=\"dataframe\">\n",
       "  <thead>\n",
       "    <tr style=\"text-align: right;\">\n",
       "      <th></th>\n",
       "      <th>PRG</th>\n",
       "      <th>PL</th>\n",
       "      <th>PR</th>\n",
       "      <th>SK</th>\n",
       "      <th>TS</th>\n",
       "      <th>M11</th>\n",
       "      <th>BD2</th>\n",
       "      <th>Age</th>\n",
       "    </tr>\n",
       "  </thead>\n",
       "  <tbody>\n",
       "    <tr>\n",
       "      <th>0</th>\n",
       "      <td>6</td>\n",
       "      <td>148</td>\n",
       "      <td>72</td>\n",
       "      <td>35</td>\n",
       "      <td>0</td>\n",
       "      <td>33.6</td>\n",
       "      <td>0.627</td>\n",
       "      <td>50</td>\n",
       "    </tr>\n",
       "    <tr>\n",
       "      <th>1</th>\n",
       "      <td>1</td>\n",
       "      <td>85</td>\n",
       "      <td>66</td>\n",
       "      <td>29</td>\n",
       "      <td>0</td>\n",
       "      <td>26.6</td>\n",
       "      <td>0.351</td>\n",
       "      <td>31</td>\n",
       "    </tr>\n",
       "    <tr>\n",
       "      <th>2</th>\n",
       "      <td>8</td>\n",
       "      <td>183</td>\n",
       "      <td>64</td>\n",
       "      <td>0</td>\n",
       "      <td>0</td>\n",
       "      <td>23.3</td>\n",
       "      <td>0.672</td>\n",
       "      <td>32</td>\n",
       "    </tr>\n",
       "    <tr>\n",
       "      <th>3</th>\n",
       "      <td>1</td>\n",
       "      <td>89</td>\n",
       "      <td>66</td>\n",
       "      <td>23</td>\n",
       "      <td>94</td>\n",
       "      <td>28.1</td>\n",
       "      <td>0.167</td>\n",
       "      <td>21</td>\n",
       "    </tr>\n",
       "    <tr>\n",
       "      <th>4</th>\n",
       "      <td>0</td>\n",
       "      <td>137</td>\n",
       "      <td>40</td>\n",
       "      <td>35</td>\n",
       "      <td>168</td>\n",
       "      <td>43.1</td>\n",
       "      <td>2.288</td>\n",
       "      <td>33</td>\n",
       "    </tr>\n",
       "  </tbody>\n",
       "</table>\n",
       "</div>"
      ],
      "text/plain": [
       "   PRG   PL  PR  SK   TS   M11    BD2  Age\n",
       "0    6  148  72  35    0  33.6  0.627   50\n",
       "1    1   85  66  29    0  26.6  0.351   31\n",
       "2    8  183  64   0    0  23.3  0.672   32\n",
       "3    1   89  66  23   94  28.1  0.167   21\n",
       "4    0  137  40  35  168  43.1  2.288   33"
      ]
     },
     "execution_count": 28,
     "metadata": {},
     "output_type": "execute_result"
    }
   ],
   "source": [
    "X.head()"
   ]
  },
  {
   "cell_type": "code",
   "execution_count": 29,
   "metadata": {
    "colab": {
     "base_uri": "https://localhost:8080/"
    },
    "id": "DXVD-zIp9Li4",
    "outputId": "9a5c8769-beef-40cd-c214-b127e64b162c"
   },
   "outputs": [
    {
     "data": {
      "text/plain": [
       "0    Positive\n",
       "1    Negative\n",
       "2    Positive\n",
       "3    Negative\n",
       "4    Positive\n",
       "Name: Sepssis, dtype: object"
      ]
     },
     "execution_count": 29,
     "metadata": {},
     "output_type": "execute_result"
    }
   ],
   "source": [
    "y.head()"
   ]
  },
  {
   "cell_type": "markdown",
   "metadata": {
    "id": "iKPaw-6RHkzL"
   },
   "source": []
  },
  {
   "cell_type": "markdown",
   "metadata": {
    "id": "6Tg_ZOjJHlTI"
   },
   "source": [
    "# Splitting the data into training and validation sets (80% train, 20% validation)"
   ]
  },
  {
   "cell_type": "code",
   "execution_count": 30,
   "metadata": {
    "id": "1_SONtudIP2x"
   },
   "outputs": [],
   "source": [
    "X_train, X_val, y_train, y_val = train_test_split(X, y, test_size=0.2, random_state=42, stratify=y)"
   ]
  },
  {
   "cell_type": "code",
   "execution_count": 31,
   "metadata": {
    "colab": {
     "base_uri": "https://localhost:8080/",
     "height": 424
    },
    "id": "XtjfkVRNKFWk",
    "outputId": "081010b1-a726-4476-ec76-87685d0aa66f"
   },
   "outputs": [
    {
     "data": {
      "text/html": [
       "<div>\n",
       "<style scoped>\n",
       "    .dataframe tbody tr th:only-of-type {\n",
       "        vertical-align: middle;\n",
       "    }\n",
       "\n",
       "    .dataframe tbody tr th {\n",
       "        vertical-align: top;\n",
       "    }\n",
       "\n",
       "    .dataframe thead th {\n",
       "        text-align: right;\n",
       "    }\n",
       "</style>\n",
       "<table border=\"1\" class=\"dataframe\">\n",
       "  <thead>\n",
       "    <tr style=\"text-align: right;\">\n",
       "      <th></th>\n",
       "      <th>PRG</th>\n",
       "      <th>PL</th>\n",
       "      <th>PR</th>\n",
       "      <th>SK</th>\n",
       "      <th>TS</th>\n",
       "      <th>M11</th>\n",
       "      <th>BD2</th>\n",
       "      <th>Age</th>\n",
       "    </tr>\n",
       "  </thead>\n",
       "  <tbody>\n",
       "    <tr>\n",
       "      <th>161</th>\n",
       "      <td>7</td>\n",
       "      <td>102</td>\n",
       "      <td>74</td>\n",
       "      <td>40</td>\n",
       "      <td>105</td>\n",
       "      <td>37.2</td>\n",
       "      <td>0.204</td>\n",
       "      <td>45</td>\n",
       "    </tr>\n",
       "    <tr>\n",
       "      <th>236</th>\n",
       "      <td>7</td>\n",
       "      <td>181</td>\n",
       "      <td>84</td>\n",
       "      <td>21</td>\n",
       "      <td>192</td>\n",
       "      <td>35.9</td>\n",
       "      <td>0.586</td>\n",
       "      <td>51</td>\n",
       "    </tr>\n",
       "    <tr>\n",
       "      <th>497</th>\n",
       "      <td>2</td>\n",
       "      <td>81</td>\n",
       "      <td>72</td>\n",
       "      <td>15</td>\n",
       "      <td>76</td>\n",
       "      <td>30.1</td>\n",
       "      <td>0.547</td>\n",
       "      <td>25</td>\n",
       "    </tr>\n",
       "    <tr>\n",
       "      <th>40</th>\n",
       "      <td>3</td>\n",
       "      <td>180</td>\n",
       "      <td>64</td>\n",
       "      <td>25</td>\n",
       "      <td>70</td>\n",
       "      <td>34.0</td>\n",
       "      <td>0.271</td>\n",
       "      <td>26</td>\n",
       "    </tr>\n",
       "    <tr>\n",
       "      <th>372</th>\n",
       "      <td>0</td>\n",
       "      <td>84</td>\n",
       "      <td>64</td>\n",
       "      <td>22</td>\n",
       "      <td>66</td>\n",
       "      <td>35.8</td>\n",
       "      <td>0.545</td>\n",
       "      <td>21</td>\n",
       "    </tr>\n",
       "    <tr>\n",
       "      <th>...</th>\n",
       "      <td>...</td>\n",
       "      <td>...</td>\n",
       "      <td>...</td>\n",
       "      <td>...</td>\n",
       "      <td>...</td>\n",
       "      <td>...</td>\n",
       "      <td>...</td>\n",
       "      <td>...</td>\n",
       "    </tr>\n",
       "    <tr>\n",
       "      <th>253</th>\n",
       "      <td>0</td>\n",
       "      <td>86</td>\n",
       "      <td>68</td>\n",
       "      <td>32</td>\n",
       "      <td>0</td>\n",
       "      <td>35.8</td>\n",
       "      <td>0.238</td>\n",
       "      <td>25</td>\n",
       "    </tr>\n",
       "    <tr>\n",
       "      <th>230</th>\n",
       "      <td>4</td>\n",
       "      <td>142</td>\n",
       "      <td>86</td>\n",
       "      <td>0</td>\n",
       "      <td>0</td>\n",
       "      <td>44.0</td>\n",
       "      <td>0.645</td>\n",
       "      <td>22</td>\n",
       "    </tr>\n",
       "    <tr>\n",
       "      <th>131</th>\n",
       "      <td>9</td>\n",
       "      <td>122</td>\n",
       "      <td>56</td>\n",
       "      <td>0</td>\n",
       "      <td>0</td>\n",
       "      <td>33.3</td>\n",
       "      <td>1.114</td>\n",
       "      <td>33</td>\n",
       "    </tr>\n",
       "    <tr>\n",
       "      <th>107</th>\n",
       "      <td>4</td>\n",
       "      <td>144</td>\n",
       "      <td>58</td>\n",
       "      <td>28</td>\n",
       "      <td>140</td>\n",
       "      <td>29.5</td>\n",
       "      <td>0.287</td>\n",
       "      <td>37</td>\n",
       "    </tr>\n",
       "    <tr>\n",
       "      <th>395</th>\n",
       "      <td>2</td>\n",
       "      <td>127</td>\n",
       "      <td>58</td>\n",
       "      <td>24</td>\n",
       "      <td>275</td>\n",
       "      <td>27.7</td>\n",
       "      <td>1.600</td>\n",
       "      <td>25</td>\n",
       "    </tr>\n",
       "  </tbody>\n",
       "</table>\n",
       "<p>479 rows × 8 columns</p>\n",
       "</div>"
      ],
      "text/plain": [
       "     PRG   PL  PR  SK   TS   M11    BD2  Age\n",
       "161    7  102  74  40  105  37.2  0.204   45\n",
       "236    7  181  84  21  192  35.9  0.586   51\n",
       "497    2   81  72  15   76  30.1  0.547   25\n",
       "40     3  180  64  25   70  34.0  0.271   26\n",
       "372    0   84  64  22   66  35.8  0.545   21\n",
       "..   ...  ...  ..  ..  ...   ...    ...  ...\n",
       "253    0   86  68  32    0  35.8  0.238   25\n",
       "230    4  142  86   0    0  44.0  0.645   22\n",
       "131    9  122  56   0    0  33.3  1.114   33\n",
       "107    4  144  58  28  140  29.5  0.287   37\n",
       "395    2  127  58  24  275  27.7  1.600   25\n",
       "\n",
       "[479 rows x 8 columns]"
      ]
     },
     "execution_count": 31,
     "metadata": {},
     "output_type": "execute_result"
    }
   ],
   "source": [
    "X_train"
   ]
  },
  {
   "cell_type": "code",
   "execution_count": 32,
   "metadata": {
    "colab": {
     "base_uri": "https://localhost:8080/",
     "height": 424
    },
    "id": "8Giznf92KLns",
    "outputId": "b34da66c-dcf1-4780-9e37-5fc89e250828"
   },
   "outputs": [
    {
     "data": {
      "text/html": [
       "<div>\n",
       "<style scoped>\n",
       "    .dataframe tbody tr th:only-of-type {\n",
       "        vertical-align: middle;\n",
       "    }\n",
       "\n",
       "    .dataframe tbody tr th {\n",
       "        vertical-align: top;\n",
       "    }\n",
       "\n",
       "    .dataframe thead th {\n",
       "        text-align: right;\n",
       "    }\n",
       "</style>\n",
       "<table border=\"1\" class=\"dataframe\">\n",
       "  <thead>\n",
       "    <tr style=\"text-align: right;\">\n",
       "      <th></th>\n",
       "      <th>PRG</th>\n",
       "      <th>PL</th>\n",
       "      <th>PR</th>\n",
       "      <th>SK</th>\n",
       "      <th>TS</th>\n",
       "      <th>M11</th>\n",
       "      <th>BD2</th>\n",
       "      <th>Age</th>\n",
       "    </tr>\n",
       "  </thead>\n",
       "  <tbody>\n",
       "    <tr>\n",
       "      <th>32</th>\n",
       "      <td>3</td>\n",
       "      <td>88</td>\n",
       "      <td>58</td>\n",
       "      <td>11</td>\n",
       "      <td>54</td>\n",
       "      <td>24.8</td>\n",
       "      <td>0.267</td>\n",
       "      <td>22</td>\n",
       "    </tr>\n",
       "    <tr>\n",
       "      <th>152</th>\n",
       "      <td>9</td>\n",
       "      <td>156</td>\n",
       "      <td>86</td>\n",
       "      <td>28</td>\n",
       "      <td>155</td>\n",
       "      <td>34.3</td>\n",
       "      <td>1.189</td>\n",
       "      <td>42</td>\n",
       "    </tr>\n",
       "    <tr>\n",
       "      <th>407</th>\n",
       "      <td>0</td>\n",
       "      <td>101</td>\n",
       "      <td>62</td>\n",
       "      <td>0</td>\n",
       "      <td>0</td>\n",
       "      <td>21.9</td>\n",
       "      <td>0.336</td>\n",
       "      <td>25</td>\n",
       "    </tr>\n",
       "    <tr>\n",
       "      <th>244</th>\n",
       "      <td>2</td>\n",
       "      <td>146</td>\n",
       "      <td>76</td>\n",
       "      <td>35</td>\n",
       "      <td>194</td>\n",
       "      <td>38.2</td>\n",
       "      <td>0.329</td>\n",
       "      <td>29</td>\n",
       "    </tr>\n",
       "    <tr>\n",
       "      <th>162</th>\n",
       "      <td>0</td>\n",
       "      <td>114</td>\n",
       "      <td>80</td>\n",
       "      <td>34</td>\n",
       "      <td>285</td>\n",
       "      <td>44.2</td>\n",
       "      <td>0.167</td>\n",
       "      <td>27</td>\n",
       "    </tr>\n",
       "    <tr>\n",
       "      <th>...</th>\n",
       "      <td>...</td>\n",
       "      <td>...</td>\n",
       "      <td>...</td>\n",
       "      <td>...</td>\n",
       "      <td>...</td>\n",
       "      <td>...</td>\n",
       "      <td>...</td>\n",
       "      <td>...</td>\n",
       "    </tr>\n",
       "    <tr>\n",
       "      <th>517</th>\n",
       "      <td>7</td>\n",
       "      <td>125</td>\n",
       "      <td>86</td>\n",
       "      <td>0</td>\n",
       "      <td>0</td>\n",
       "      <td>37.6</td>\n",
       "      <td>0.304</td>\n",
       "      <td>51</td>\n",
       "    </tr>\n",
       "    <tr>\n",
       "      <th>94</th>\n",
       "      <td>2</td>\n",
       "      <td>142</td>\n",
       "      <td>82</td>\n",
       "      <td>18</td>\n",
       "      <td>64</td>\n",
       "      <td>24.7</td>\n",
       "      <td>0.761</td>\n",
       "      <td>21</td>\n",
       "    </tr>\n",
       "    <tr>\n",
       "      <th>496</th>\n",
       "      <td>5</td>\n",
       "      <td>110</td>\n",
       "      <td>68</td>\n",
       "      <td>0</td>\n",
       "      <td>0</td>\n",
       "      <td>26.0</td>\n",
       "      <td>0.292</td>\n",
       "      <td>30</td>\n",
       "    </tr>\n",
       "    <tr>\n",
       "      <th>582</th>\n",
       "      <td>12</td>\n",
       "      <td>121</td>\n",
       "      <td>78</td>\n",
       "      <td>17</td>\n",
       "      <td>0</td>\n",
       "      <td>26.5</td>\n",
       "      <td>0.259</td>\n",
       "      <td>62</td>\n",
       "    </tr>\n",
       "    <tr>\n",
       "      <th>436</th>\n",
       "      <td>12</td>\n",
       "      <td>140</td>\n",
       "      <td>85</td>\n",
       "      <td>33</td>\n",
       "      <td>0</td>\n",
       "      <td>37.4</td>\n",
       "      <td>0.244</td>\n",
       "      <td>41</td>\n",
       "    </tr>\n",
       "  </tbody>\n",
       "</table>\n",
       "<p>120 rows × 8 columns</p>\n",
       "</div>"
      ],
      "text/plain": [
       "     PRG   PL  PR  SK   TS   M11    BD2  Age\n",
       "32     3   88  58  11   54  24.8  0.267   22\n",
       "152    9  156  86  28  155  34.3  1.189   42\n",
       "407    0  101  62   0    0  21.9  0.336   25\n",
       "244    2  146  76  35  194  38.2  0.329   29\n",
       "162    0  114  80  34  285  44.2  0.167   27\n",
       "..   ...  ...  ..  ..  ...   ...    ...  ...\n",
       "517    7  125  86   0    0  37.6  0.304   51\n",
       "94     2  142  82  18   64  24.7  0.761   21\n",
       "496    5  110  68   0    0  26.0  0.292   30\n",
       "582   12  121  78  17    0  26.5  0.259   62\n",
       "436   12  140  85  33    0  37.4  0.244   41\n",
       "\n",
       "[120 rows x 8 columns]"
      ]
     },
     "execution_count": 32,
     "metadata": {},
     "output_type": "execute_result"
    }
   ],
   "source": [
    "X_val"
   ]
  },
  {
   "cell_type": "markdown",
   "metadata": {
    "id": "7VKCggMtEvNA"
   },
   "source": [
    "## Feature Scaling\n",
    "Perform feature scaling on X_train dataset"
   ]
  },
  {
   "cell_type": "code",
   "execution_count": 33,
   "metadata": {
    "id": "uieuc-2dIOnH"
   },
   "outputs": [],
   "source": [
    "# Create the preprocessor\n",
    "preprocessor = StandardScaler()\n",
    "\n",
    "# Fit and transform the training data\n",
    "X_train_scaled = preprocessor.fit_transform(X_train)\n",
    "\n",
    "# Transform the validation data using the preprocessor fitted on the training data\n",
    "X_val_scaled = preprocessor.transform(X_val)"
   ]
  },
  {
   "cell_type": "code",
   "execution_count": 34,
   "metadata": {
    "id": "5cbMySUhc54i"
   },
   "outputs": [],
   "source": [
    "# Initialize the LabelEncoder\n",
    "label_encoder = LabelEncoder()\n",
    "\n",
    "# Fit and transform the training labels\n",
    "y_train_encoded = label_encoder.fit_transform(y_train)\n",
    "\n",
    "# Transform the validation labels using the encoder fitted on the training labels\n",
    "y_val_encoded = label_encoder.transform(y_val)"
   ]
  },
  {
   "cell_type": "markdown",
   "metadata": {
    "id": "RO6U5YKoto71"
   },
   "source": [
    "## Handling Imbalanced Data\n",
    "\n",
    "- By using the RandomOverSampler, we can generate synthetic samples for the minority class, resulting in a more balanced dataset for training.\n",
    "- This will help the model learn from both classes more effectively and potentially improve its performance on the test data.\n",
    "\n",
    "*We must remember to use the resampled data for model training and validation to avoid data leakage.*"
   ]
  },
  {
   "cell_type": "code",
   "execution_count": 35,
   "metadata": {
    "colab": {
     "base_uri": "https://localhost:8080/"
    },
    "id": "tCWRGUX8tmVd",
    "outputId": "e1c2260f-ceec-4371-8106-f8b82fa597ed"
   },
   "outputs": [
    {
     "name": "stdout",
     "output_type": "stream",
     "text": [
      "Class Distribution before oversampling: Counter({'Negative': 313, 'Positive': 166})\n",
      "Class Distribution after oversampling: Counter({0: 313, 1: 313})\n"
     ]
    }
   ],
   "source": [
    "# Check the class distribution before oversampling\n",
    "print(\"Class Distribution before oversampling:\", Counter(y_train))\n",
    "\n",
    "# Create an instance of RandomOverSampler\n",
    "oversampler = RandomOverSampler(random_state=42)\n",
    "\n",
    "# Fit and resample the training data\n",
    "X_train_resampled, y_train_resampled = oversampler.fit_resample(X_train_scaled, y_train_encoded)\n",
    "\n",
    "# Check the class distribution after oversampling\n",
    "print(\"Class Distribution after oversampling:\", Counter(y_train_resampled))"
   ]
  },
  {
   "cell_type": "markdown",
   "metadata": {
    "id": "SnSgOE2oKaj7"
   },
   "source": [
    "# [12] Machine Learning Models to train:\n",
    "We shall train 9 Classification Models below and pick the 3 best performing models for further tuning:\n",
    "1. Logistic Regression\n",
    "2. K-Nearest Neighbors\n",
    "3. Decision Tree\n",
    "4. Support Vector Machine (Linear Kernel)\n",
    "5. Support Vector Machine (RBF Kernel)\n",
    "6. Neural Network\n",
    "7. Random Forest\n",
    "8. Gradient Boosting\n",
    "9. XGBoost\n",
    "\n",
    "We will create a function that will be used to evaluate the models Afterwards we will train all 8 models append the results to a dictionary and finally put it in a dataframe"
   ]
  },
  {
   "cell_type": "code",
   "execution_count": 36,
   "metadata": {
    "id": "9wke_ZDtQgKy"
   },
   "outputs": [],
   "source": [
    "#Create A function to Evaluate the models\n",
    "def evaluate(actual,predicted,model_name):\n",
    "    PrecisionScore = precision_score(actual,predicted,pos_label=1)\n",
    "    RecallScore =   recall_score(actual,predicted,pos_label=1)\n",
    "    F1_score =     f1_score(actual,predicted,pos_label=1)\n",
    "    Accuracy =    accuracy_score(actual,predicted)\n",
    "\n",
    "    result={'Model':model_name, 'Precision_Score':PrecisionScore,'Recall_Score':RecallScore,'F1_Score':F1_score,'Accuracy':Accuracy}\n",
    "\n",
    "    return result"
   ]
  },
  {
   "cell_type": "markdown",
   "metadata": {
    "id": "1IxUY-dlSlIm"
   },
   "source": [
    "- First we set an empty list\n",
    "- we then put all the models in a dictionary\n",
    "- We loop through the models in the dictionary and fit them using the pipeline\n",
    "- The result is stored in the list and then converted to a dataframe"
   ]
  },
  {
   "cell_type": "code",
   "execution_count": 37,
   "metadata": {
    "colab": {
     "base_uri": "https://localhost:8080/"
    },
    "id": "AdoVyJOHSmfn",
    "outputId": "58e05090-4dcc-432d-a65b-22e8bac1cc81"
   },
   "outputs": [
    {
     "name": "stderr",
     "output_type": "stream",
     "text": [
      "/home/penscola/.local/lib/python3.10/site-packages/sklearn/svm/_base.py:1244: ConvergenceWarning: Liblinear failed to converge, increase the number of iterations.\n",
      "  warnings.warn(\n",
      "/home/penscola/.local/lib/python3.10/site-packages/sklearn/neural_network/_multilayer_perceptron.py:686: ConvergenceWarning: Stochastic Optimizer: Maximum iterations (200) reached and the optimization hasn't converged yet.\n",
      "  warnings.warn(\n"
     ]
    }
   ],
   "source": [
    "# This variable will hold the list of dictionaries of the results of the different models\n",
    "dict_list = []\n",
    "\n",
    "models = {'Logistic Regression': LogisticRegression(),\n",
    "         'K-Nearest Neighbors': KNeighborsClassifier(),\n",
    "         'Decision Tree': DecisionTreeClassifier(),\n",
    "         'Support Vector Machine (Linear Kernel)': LinearSVC(),\n",
    "         'Support Vector Machine (RBF Kernel)': SVC(),\n",
    "         'Neural Network': MLPClassifier(),\n",
    "         'Random Forest': RandomForestClassifier(),\n",
    "         'Gradient Boosting': GradientBoostingClassifier(),\n",
    "         'XGBoost': XGBClassifier()\n",
    "         }\n",
    "\n",
    "# Train all the models using a for loop\n",
    "\n",
    "for model_name, model in models.items():\n",
    "    # Create a pipeline with the model and the scaler\n",
    "    pipeline = Pipeline([\n",
    "        ('scaler', StandardScaler()),\n",
    "        ('model', model)\n",
    "    ])\n",
    "\n",
    "    # Fit the model using the pipeline on the scaled training data\n",
    "    pipeline.fit(X_train_resampled, y_train_resampled)\n",
    "\n",
    "    # Make predictions on the scaled validation data\n",
    "    y_pred = pipeline.predict(X_val_scaled)\n",
    "\n",
    "    # Evaluate the model using the evaluation function\n",
    "    evaluation_result = evaluate(y_val_encoded, y_pred, model_name)\n",
    "\n",
    "    # Append the evaluation result to the list of dictionaries\n",
    "    dict_list.append(evaluation_result)\n",
    "\n",
    "# Convert the list of dictionaries to a DataFrame\n",
    "results_df = pd.DataFrame(dict_list)"
   ]
  },
  {
   "cell_type": "markdown",
   "metadata": {
    "id": "umEs9x2yooVo"
   },
   "source": [
    "## Sorting Results by F1-score"
   ]
  },
  {
   "cell_type": "code",
   "execution_count": 38,
   "metadata": {
    "colab": {
     "base_uri": "https://localhost:8080/",
     "height": 332
    },
    "id": "7SciQbH-oPbp",
    "outputId": "0d57d3b0-a0fe-46a0-e1de-e6f839c4d5df"
   },
   "outputs": [
    {
     "data": {
      "text/html": [
       "<div>\n",
       "<style scoped>\n",
       "    .dataframe tbody tr th:only-of-type {\n",
       "        vertical-align: middle;\n",
       "    }\n",
       "\n",
       "    .dataframe tbody tr th {\n",
       "        vertical-align: top;\n",
       "    }\n",
       "\n",
       "    .dataframe thead th {\n",
       "        text-align: right;\n",
       "    }\n",
       "</style>\n",
       "<table border=\"1\" class=\"dataframe\">\n",
       "  <thead>\n",
       "    <tr style=\"text-align: right;\">\n",
       "      <th></th>\n",
       "      <th>Model</th>\n",
       "      <th>Precision_Score</th>\n",
       "      <th>Recall_Score</th>\n",
       "      <th>F1_Score</th>\n",
       "      <th>Accuracy</th>\n",
       "    </tr>\n",
       "  </thead>\n",
       "  <tbody>\n",
       "    <tr>\n",
       "      <th>0</th>\n",
       "      <td>K-Nearest Neighbors</td>\n",
       "      <td>0.564516</td>\n",
       "      <td>0.833333</td>\n",
       "      <td>0.673077</td>\n",
       "      <td>0.716667</td>\n",
       "    </tr>\n",
       "    <tr>\n",
       "      <th>1</th>\n",
       "      <td>Support Vector Machine (RBF Kernel)</td>\n",
       "      <td>0.596154</td>\n",
       "      <td>0.738095</td>\n",
       "      <td>0.659574</td>\n",
       "      <td>0.733333</td>\n",
       "    </tr>\n",
       "    <tr>\n",
       "      <th>2</th>\n",
       "      <td>Gradient Boosting</td>\n",
       "      <td>0.617021</td>\n",
       "      <td>0.690476</td>\n",
       "      <td>0.651685</td>\n",
       "      <td>0.741667</td>\n",
       "    </tr>\n",
       "    <tr>\n",
       "      <th>3</th>\n",
       "      <td>Logistic Regression</td>\n",
       "      <td>0.553571</td>\n",
       "      <td>0.738095</td>\n",
       "      <td>0.632653</td>\n",
       "      <td>0.700000</td>\n",
       "    </tr>\n",
       "    <tr>\n",
       "      <th>4</th>\n",
       "      <td>Neural Network</td>\n",
       "      <td>0.566038</td>\n",
       "      <td>0.714286</td>\n",
       "      <td>0.631579</td>\n",
       "      <td>0.708333</td>\n",
       "    </tr>\n",
       "    <tr>\n",
       "      <th>5</th>\n",
       "      <td>Support Vector Machine (Linear Kernel)</td>\n",
       "      <td>0.555556</td>\n",
       "      <td>0.714286</td>\n",
       "      <td>0.625000</td>\n",
       "      <td>0.700000</td>\n",
       "    </tr>\n",
       "    <tr>\n",
       "      <th>6</th>\n",
       "      <td>Random Forest</td>\n",
       "      <td>0.600000</td>\n",
       "      <td>0.642857</td>\n",
       "      <td>0.620690</td>\n",
       "      <td>0.725000</td>\n",
       "    </tr>\n",
       "    <tr>\n",
       "      <th>7</th>\n",
       "      <td>Decision Tree</td>\n",
       "      <td>0.609756</td>\n",
       "      <td>0.595238</td>\n",
       "      <td>0.602410</td>\n",
       "      <td>0.725000</td>\n",
       "    </tr>\n",
       "    <tr>\n",
       "      <th>8</th>\n",
       "      <td>XGBoost</td>\n",
       "      <td>0.581395</td>\n",
       "      <td>0.595238</td>\n",
       "      <td>0.588235</td>\n",
       "      <td>0.708333</td>\n",
       "    </tr>\n",
       "  </tbody>\n",
       "</table>\n",
       "</div>"
      ],
      "text/plain": [
       "                                    Model  Precision_Score  Recall_Score  \\\n",
       "0                     K-Nearest Neighbors         0.564516      0.833333   \n",
       "1     Support Vector Machine (RBF Kernel)         0.596154      0.738095   \n",
       "2                       Gradient Boosting         0.617021      0.690476   \n",
       "3                     Logistic Regression         0.553571      0.738095   \n",
       "4                          Neural Network         0.566038      0.714286   \n",
       "5  Support Vector Machine (Linear Kernel)         0.555556      0.714286   \n",
       "6                           Random Forest         0.600000      0.642857   \n",
       "7                           Decision Tree         0.609756      0.595238   \n",
       "8                                 XGBoost         0.581395      0.595238   \n",
       "\n",
       "   F1_Score  Accuracy  \n",
       "0  0.673077  0.716667  \n",
       "1  0.659574  0.733333  \n",
       "2  0.651685  0.741667  \n",
       "3  0.632653  0.700000  \n",
       "4  0.631579  0.708333  \n",
       "5  0.625000  0.700000  \n",
       "6  0.620690  0.725000  \n",
       "7  0.602410  0.725000  \n",
       "8  0.588235  0.708333  "
      ]
     },
     "execution_count": 38,
     "metadata": {},
     "output_type": "execute_result"
    }
   ],
   "source": [
    "#sort the results by F1 score\n",
    "results_df.sort_values(by='F1_Score',ascending=False,inplace=True,ignore_index=True)\n",
    "#display results\n",
    "results_df"
   ]
  },
  {
   "cell_type": "markdown",
   "metadata": {
    "id": "4S31a6bfqwob"
   },
   "source": [
    "## Visualize the Models F1-score performance"
   ]
  },
  {
   "cell_type": "code",
   "execution_count": 39,
   "metadata": {
    "colab": {
     "base_uri": "https://localhost:8080/",
     "height": 564
    },
    "id": "GMy9Rn0xq5UK",
    "outputId": "a6500b6b-6538-4dc9-c4b6-7efff47bed20"
   },
   "outputs": [
    {
     "data": {
      "image/png": "[encoded data removed]",
      "text/plain": [
       "<Figure size 1000x600 with 1 Axes>"
      ]
     },
     "metadata": {},
     "output_type": "display_data"
    }
   ],
   "source": [
    "# Sort the DataFrame based on the F1-Score in descending order\n",
    "results_df = results_df.sort_values(by='F1_Score', ascending=False)\n",
    "\n",
    "# Plot the models according to their F1-Score\n",
    "plt.figure(figsize=(10, 6))\n",
    "bars = plt.barh(results_df['Model'], results_df['F1_Score'])\n",
    "plt.xlabel('F1-Score')\n",
    "plt.ylabel('Model')\n",
    "plt.title('Model F1-Scores')\n",
    "\n",
    "# Invert the y-axis to display highest value at the top\n",
    "plt.gca().invert_yaxis()\n",
    "\n",
    "# Add text annotations for each bar\n",
    "for bar in bars:\n",
    "    plt.text(bar.get_width(), bar.get_y() + bar.get_height() / 2, f\"{bar.get_width():.3f}\", ha='left', va='center')\n",
    "\n",
    "plt.show()"
   ]
  },
  {
   "cell_type": "markdown",
   "metadata": {
    "id": "Zc_L2Q64w8S7"
   },
   "source": [
    "From the bar plot of the F1-Score, we can observe the performance of each model. The F1-Score is a metric that considers both precision and recall, making it a good overall performance measure, especially in cases where there is an imbalance between classes.\n",
    "\n",
    "Observations:\n",
    "\n",
    "- The \"K-Nearest-Neighbors\" model has the highest F1-Score, indicating that it performs the best among all the models evaluated.\n",
    "- The \"Support Vector Machine (RBF Kernel)\" model follows closely in performance with a slightly lower F1-Score.\n",
    "- The \"Logistic Regression\" model comes third, with relatively high F1-Scores.\n",
    "- In position 4 is \"Gradient Boosting\" model.\n",
    "- The other remaining models have lower F1-Scores compared to the top-performing models.\n",
    "\n",
    "Based on the F1-Scores and their relative performance, the four models that seem promising for further fine-tuning using hyperparameters are:\n",
    "\n",
    "1. K-Nearest Neighbors\n",
    "2. Support Vector Machine (RBF Kernel)\n",
    "3. Logistic Regression\n",
    "4. Gradient Boosting\n",
    "\n",
    "These models have demonstrated better overall performance and could potentially benefit from hyperparameter tuning to achieve even better results. Hyperparameter tuning involves selecting the best combination of hyperparameters for a model to optimize its performance on the given dataset. Grid search or random search can be used to find the best hyperparameter values for these models."
   ]
  },
  {
   "cell_type": "markdown",
   "metadata": {
    "id": "ZIcSUYjK04JP"
   },
   "source": [
    "# Hyperparameter Tuning for Four chosen Models using GridSearchCV"
   ]
  },
  {
   "cell_type": "code",
   "execution_count": 40,
   "metadata": {
    "colab": {
     "base_uri": "https://localhost:8080/",
     "height": 331
    },
    "id": "U-8kRLR4yZ9U",
    "outputId": "da3180ba-cb49-40e8-c1d9-13896e2626b9"
   },
   "outputs": [
    {
     "name": "stdout",
     "output_type": "stream",
     "text": [
      "Best parameters for K-Nearest Neighbors:\n",
      "{'model__algorithm': 'auto', 'model__n_neighbors': 7, 'model__p': 2, 'model__weights': 'distance'}\n",
      "Best parameters for Support Vector Machine (RBF Kernel):\n",
      "{'model__C': 10, 'model__gamma': 'scale', 'model__kernel': 'rbf'}\n",
      "Best parameters for Gradient Boosting:\n",
      "{'model__learning_rate': 0.1, 'model__max_depth': 5, 'model__n_estimators': 200}\n",
      "Best parameters for Logistic Regression:\n",
      "{'model__C': 0.1, 'model__solver': 'liblinear'}\n",
      "=========================================\n"
     ]
    },
    {
     "data": {
      "text/html": [
       "<div>\n",
       "<style scoped>\n",
       "    .dataframe tbody tr th:only-of-type {\n",
       "        vertical-align: middle;\n",
       "    }\n",
       "\n",
       "    .dataframe tbody tr th {\n",
       "        vertical-align: top;\n",
       "    }\n",
       "\n",
       "    .dataframe thead th {\n",
       "        text-align: right;\n",
       "    }\n",
       "</style>\n",
       "<table border=\"1\" class=\"dataframe\">\n",
       "  <thead>\n",
       "    <tr style=\"text-align: right;\">\n",
       "      <th></th>\n",
       "      <th>model</th>\n",
       "      <th>F1_score</th>\n",
       "      <th>Accuracy</th>\n",
       "    </tr>\n",
       "  </thead>\n",
       "  <tbody>\n",
       "    <tr>\n",
       "      <th>0</th>\n",
       "      <td>K-Nearest Neighbors</td>\n",
       "      <td>0.810567</td>\n",
       "      <td>0.813067</td>\n",
       "    </tr>\n",
       "    <tr>\n",
       "      <th>1</th>\n",
       "      <td>Support Vector Machine (RBF Kernel)</td>\n",
       "      <td>0.782353</td>\n",
       "      <td>0.782781</td>\n",
       "    </tr>\n",
       "    <tr>\n",
       "      <th>2</th>\n",
       "      <td>Gradient Boosting</td>\n",
       "      <td>0.852398</td>\n",
       "      <td>0.853041</td>\n",
       "    </tr>\n",
       "    <tr>\n",
       "      <th>3</th>\n",
       "      <td>Logistic Regression</td>\n",
       "      <td>0.740706</td>\n",
       "      <td>0.741232</td>\n",
       "    </tr>\n",
       "  </tbody>\n",
       "</table>\n",
       "</div>"
      ],
      "text/plain": [
       "                                 model  F1_score  Accuracy\n",
       "0                  K-Nearest Neighbors  0.810567  0.813067\n",
       "1  Support Vector Machine (RBF Kernel)  0.782353  0.782781\n",
       "2                    Gradient Boosting  0.852398  0.853041\n",
       "3                  Logistic Regression  0.740706  0.741232"
      ]
     },
     "execution_count": 40,
     "metadata": {},
     "output_type": "execute_result"
    }
   ],
   "source": [
    "# Set up the parameter grid for each model\n",
    "knn_params = {\n",
    "    'model__n_neighbors': [3, 5, 7],\n",
    "    'model__weights': ['uniform', 'distance'],\n",
    "    'model__algorithm': ['auto', 'ball_tree', 'kd_tree', 'brute'],\n",
    "    'model__p': [1, 2],\n",
    "}\n",
    "\n",
    "svm_rbf_params = {\n",
    "    'model__C': [0.1, 1, 10],\n",
    "    'model__gamma': ['scale', 'auto'],\n",
    "    'model__kernel': ['rbf'],\n",
    "}\n",
    "\n",
    "gradient_boosting_params = {\n",
    "    'model__learning_rate': [0.1, 0.01],\n",
    "    'model__n_estimators': [100, 200, 300],\n",
    "    'model__max_depth': [3, 4, 5]\n",
    "}\n",
    "\n",
    "logistic_regression_params = {\n",
    "    'model__C': [0.1, 1, 10],\n",
    "    'model__solver': ['liblinear', 'saga']\n",
    "}\n",
    "\n",
    "# Perform hyperparameter tuning with cross-validation for each model\n",
    "models = {\n",
    "    'K-Nearest Neighbors': (KNeighborsClassifier(), knn_params),\n",
    "    'Support Vector Machine (RBF Kernel)': (SVC(), svm_rbf_params),\n",
    "    'Gradient Boosting': (GradientBoostingClassifier(), gradient_boosting_params),\n",
    "    'Logistic Regression': (LogisticRegression(), logistic_regression_params),\n",
    "}\n",
    "\n",
    "\n",
    "best_score = []\n",
    "for model_name, (model, params) in models.items():\n",
    "    # Make a pipeline\n",
    "    pipe = Pipeline([('Preprocessor', preprocessor), ('model', model)])\n",
    "    grid_search = GridSearchCV(pipe, params, cv=5, scoring=['accuracy', 'f1_macro'], refit='f1_macro', n_jobs=-1)\n",
    "    # Fit gridsearch\n",
    "    grid_search.fit(X_train_resampled, y_train_resampled)\n",
    "\n",
    "    # Print Best parameters\n",
    "    print(f\"Best parameters for {model_name}:\")\n",
    "    print(grid_search.best_params_)\n",
    "\n",
    "    # Put scores in a dict\n",
    "    scores = {'model': model_name, 'F1_score': grid_search.cv_results_['mean_test_f1_macro'][grid_search.best_index_], 'Accuracy': grid_search.cv_results_['mean_test_accuracy'][grid_search.best_index_]}\n",
    "    best_score.append(scores)\n",
    "\n",
    "# Put scores in a dataframe\n",
    "print('=========================================')\n",
    "scores_df = pd.DataFrame(best_score)\n",
    "scores_df"
   ]
  },
  {
   "cell_type": "code",
   "execution_count": 41,
   "metadata": {
    "colab": {
     "base_uri": "https://localhost:8080/",
     "height": 175
    },
    "id": "sfdcm6jMBhK2",
    "outputId": "71f85dab-3a77-40b8-d3c0-c2fef01c5aeb"
   },
   "outputs": [
    {
     "data": {
      "text/html": [
       "<div>\n",
       "<style scoped>\n",
       "    .dataframe tbody tr th:only-of-type {\n",
       "        vertical-align: middle;\n",
       "    }\n",
       "\n",
       "    .dataframe tbody tr th {\n",
       "        vertical-align: top;\n",
       "    }\n",
       "\n",
       "    .dataframe thead th {\n",
       "        text-align: right;\n",
       "    }\n",
       "</style>\n",
       "<table border=\"1\" class=\"dataframe\">\n",
       "  <thead>\n",
       "    <tr style=\"text-align: right;\">\n",
       "      <th></th>\n",
       "      <th>model</th>\n",
       "      <th>F1_score</th>\n",
       "      <th>Accuracy</th>\n",
       "    </tr>\n",
       "  </thead>\n",
       "  <tbody>\n",
       "    <tr>\n",
       "      <th>0</th>\n",
       "      <td>Gradient Boosting</td>\n",
       "      <td>0.852398</td>\n",
       "      <td>0.853041</td>\n",
       "    </tr>\n",
       "    <tr>\n",
       "      <th>1</th>\n",
       "      <td>K-Nearest Neighbors</td>\n",
       "      <td>0.810567</td>\n",
       "      <td>0.813067</td>\n",
       "    </tr>\n",
       "    <tr>\n",
       "      <th>2</th>\n",
       "      <td>Support Vector Machine (RBF Kernel)</td>\n",
       "      <td>0.782353</td>\n",
       "      <td>0.782781</td>\n",
       "    </tr>\n",
       "    <tr>\n",
       "      <th>3</th>\n",
       "      <td>Logistic Regression</td>\n",
       "      <td>0.740706</td>\n",
       "      <td>0.741232</td>\n",
       "    </tr>\n",
       "  </tbody>\n",
       "</table>\n",
       "</div>"
      ],
      "text/plain": [
       "                                 model  F1_score  Accuracy\n",
       "0                    Gradient Boosting  0.852398  0.853041\n",
       "1                  K-Nearest Neighbors  0.810567  0.813067\n",
       "2  Support Vector Machine (RBF Kernel)  0.782353  0.782781\n",
       "3                  Logistic Regression  0.740706  0.741232"
      ]
     },
     "execution_count": 41,
     "metadata": {},
     "output_type": "execute_result"
    }
   ],
   "source": [
    "#sort Dataframe\n",
    "scores_df.sort_values(by='F1_score',ignore_index=True,ascending=False, inplace=True)\n",
    "scores_df"
   ]
  },
  {
   "cell_type": "markdown",
   "metadata": {
    "id": "wzlnCjpVCgit"
   },
   "source": [
    "\n",
    "Based on the F1-scores, we can observe the following:\n",
    "\n",
    "- Gradient Boosting has the highest F1-score of 0.850920, indicating that it performs the best among the four models in terms of balancing precision and recall.\n",
    "- K-Nearest Neighbors comes second with an F1-score of 0.810567.\n",
    "- Support Vector Machine (RBF Kernel) follows with an F1-score of 0.782353.\n",
    "- Logistic Regression has the lowest F1-score of 0.740706.\n",
    "\n",
    "All the models seem to have relatively similar performance, but the Gradient Boosting has a slight edge with the highest F1-score."
   ]
  },
  {
   "cell_type": "markdown",
   "metadata": {
    "id": "aEL3TxqEC-c6"
   },
   "source": [
    "## Visualize by using a bar plot to compare the performance metrics of different models."
   ]
  },
  {
   "cell_type": "code",
   "execution_count": 42,
   "metadata": {
    "colab": {
     "base_uri": "https://localhost:8080/",
     "height": 564
    },
    "id": "Yxyy1W2HCjkO",
    "outputId": "c490ff1b-40ac-4153-a231-e85de5967b2b"
   },
   "outputs": [
    {
     "data": {
      "image/png": "[encoded data removed]",
      "text/plain": [
       "<Figure size 800x600 with 1 Axes>"
      ]
     },
     "metadata": {},
     "output_type": "display_data"
    }
   ],
   "source": [
    "# Data\n",
    "model_names = ['Gradient Boosting', 'K-Nearest Neighbors', 'Support Vector Machine (RBF Kernel)','Logistic Regression']\n",
    "f1_scores = [0.850920, 0.810567, 0.782353, 0.740706]\n",
    "\n",
    "# Plot the models according to their F1-Score\n",
    "plt.figure(figsize=(8, 6))\n",
    "plt.barh(model_names, f1_scores)\n",
    "plt.xlabel('F1-Score')\n",
    "plt.ylabel('Model')\n",
    "plt.title('Model F1-Scores')\n",
    "plt.gca().invert_yaxis()  # Invert the y-axis to display highest value at the top\n",
    "\n",
    "# Add the F1-score values on the bars\n",
    "for bar, f1_score in zip(bars, f1_scores):\n",
    "    plt.text(bar.get_width(), bar.get_y() + bar.get_height() / 2, f'{f1_score:.4f}', ha='left', va='center')\n",
    "\n",
    "plt.show()"
   ]
  },
  {
   "cell_type": "markdown",
   "metadata": {
    "id": "tsCh09I8GECt"
   },
   "source": [
    "## Random Forest as the Model of choice:\n",
    "\n",
    "Based on the provided performance metrics, the best performing model among the four is the \"Random Forest\" model.\n",
    "\n",
    "Here are the reasons:\n",
    "\n",
    "F1-score: The F1-score of the Random Forest model was 0.8799, which considers both precision and recall. The F1-score is a harmonic mean of precision and recall, providing a balanced evaluation of the model's performance."
   ]
  },
  {
   "cell_type": "code",
   "execution_count": 43,
   "metadata": {
    "colab": {
     "base_uri": "https://localhost:8080/",
     "height": 126
    },
    "id": "sD3DiY0-Iv_T",
    "outputId": "3422bf89-82c8-44c3-d293-61497a5857a0"
   },
   "outputs": [
    {
     "data": {
      "text/html": [
       "<style>#sk-container-id-1 {color: black;background-color: white;}#sk-container-id-1 pre{padding: 0;}#sk-container-id-1 div.sk-toggleable {background-color: white;}#sk-container-id-1 label.sk-toggleable__label {cursor: pointer;display: block;width: 100%;margin-bottom: 0;padding: 0.3em;box-sizing: border-box;text-align: center;}#sk-container-id-1 label.sk-toggleable__label-arrow:before {content: \"▸\";float: left;margin-right: 0.25em;color: #696969;}#sk-container-id-1 label.sk-toggleable__label-arrow:hover:before {color: black;}#sk-container-id-1 div.sk-estimator:hover label.sk-toggleable__label-arrow:before {color: black;}#sk-container-id-1 div.sk-toggleable__content {max-height: 0;max-width: 0;overflow: hidden;text-align: left;background-color: #f0f8ff;}#sk-container-id-1 div.sk-toggleable__content pre {margin: 0.2em;color: black;border-radius: 0.25em;background-color: #f0f8ff;}#sk-container-id-1 input.sk-toggleable__control:checked~div.sk-toggleable__content {max-height: 200px;max-width: 100%;overflow: auto;}#sk-container-id-1 input.sk-toggleable__control:checked~label.sk-toggleable__label-arrow:before {content: \"▾\";}#sk-container-id-1 div.sk-estimator input.sk-toggleable__control:checked~label.sk-toggleable__label {background-color: #d4ebff;}#sk-container-id-1 div.sk-label input.sk-toggleable__control:checked~label.sk-toggleable__label {background-color: #d4ebff;}#sk-container-id-1 input.sk-hidden--visually {border: 0;clip: rect(1px 1px 1px 1px);clip: rect(1px, 1px, 1px, 1px);height: 1px;margin: -1px;overflow: hidden;padding: 0;position: absolute;width: 1px;}#sk-container-id-1 div.sk-estimator {font-family: monospace;background-color: #f0f8ff;border: 1px dotted black;border-radius: 0.25em;box-sizing: border-box;margin-bottom: 0.5em;}#sk-container-id-1 div.sk-estimator:hover {background-color: #d4ebff;}#sk-container-id-1 div.sk-parallel-item::after {content: \"\";width: 100%;border-bottom: 1px solid gray;flex-grow: 1;}#sk-container-id-1 div.sk-label:hover label.sk-toggleable__label {background-color: #d4ebff;}#sk-container-id-1 div.sk-serial::before {content: \"\";position: absolute;border-left: 1px solid gray;box-sizing: border-box;top: 0;bottom: 0;left: 50%;z-index: 0;}#sk-container-id-1 div.sk-serial {display: flex;flex-direction: column;align-items: center;background-color: white;padding-right: 0.2em;padding-left: 0.2em;position: relative;}#sk-container-id-1 div.sk-item {position: relative;z-index: 1;}#sk-container-id-1 div.sk-parallel {display: flex;align-items: stretch;justify-content: center;background-color: white;position: relative;}#sk-container-id-1 div.sk-item::before, #sk-container-id-1 div.sk-parallel-item::before {content: \"\";position: absolute;border-left: 1px solid gray;box-sizing: border-box;top: 0;bottom: 0;left: 50%;z-index: -1;}#sk-container-id-1 div.sk-parallel-item {display: flex;flex-direction: column;z-index: 1;position: relative;background-color: white;}#sk-container-id-1 div.sk-parallel-item:first-child::after {align-self: flex-end;width: 50%;}#sk-container-id-1 div.sk-parallel-item:last-child::after {align-self: flex-start;width: 50%;}#sk-container-id-1 div.sk-parallel-item:only-child::after {width: 0;}#sk-container-id-1 div.sk-dashed-wrapped {border: 1px dashed gray;margin: 0 0.4em 0.5em 0.4em;box-sizing: border-box;padding-bottom: 0.4em;background-color: white;}#sk-container-id-1 div.sk-label label {font-family: monospace;font-weight: bold;display: inline-block;line-height: 1.2em;}#sk-container-id-1 div.sk-label-container {text-align: center;}#sk-container-id-1 div.sk-container {/* jupyter's `normalize.less` sets `[hidden] { display: none; }` but bootstrap.min.css set `[hidden] { display: none !important; }` so we also need the `!important` here to be able to override the default hidden behavior on the sphinx rendered scikit-learn.org. See: https://github.com/scikit-learn/scikit-learn/issues/21755 */display: inline-block !important;position: relative;}#sk-container-id-1 div.sk-text-repr-fallback {display: none;}</style><div id=\"sk-container-id-1\" class=\"sk-top-container\"><div class=\"sk-text-repr-fallback\"><pre>Pipeline(steps=[(&#x27;preprocessor&#x27;, StandardScaler()),\n",
       "                (&#x27;model&#x27;,\n",
       "                 GradientBoostingClassifier(max_depth=5, n_estimators=300))])</pre><b>In a Jupyter environment, please rerun this cell to show the HTML representation or trust the notebook. <br />On GitHub, the HTML representation is unable to render, please try loading this page with nbviewer.org.</b></div><div class=\"sk-container\" hidden><div class=\"sk-item sk-dashed-wrapped\"><div class=\"sk-label-container\"><div class=\"sk-label sk-toggleable\"><input class=\"sk-toggleable__control sk-hidden--visually\" id=\"sk-estimator-id-1\" type=\"checkbox\" ><label for=\"sk-estimator-id-1\" class=\"sk-toggleable__label sk-toggleable__label-arrow\">Pipeline</label><div class=\"sk-toggleable__content\"><pre>Pipeline(steps=[(&#x27;preprocessor&#x27;, StandardScaler()),\n",
       "                (&#x27;model&#x27;,\n",
       "                 GradientBoostingClassifier(max_depth=5, n_estimators=300))])</pre></div></div></div><div class=\"sk-serial\"><div class=\"sk-item\"><div class=\"sk-estimator sk-toggleable\"><input class=\"sk-toggleable__control sk-hidden--visually\" id=\"sk-estimator-id-2\" type=\"checkbox\" ><label for=\"sk-estimator-id-2\" class=\"sk-toggleable__label sk-toggleable__label-arrow\">StandardScaler</label><div class=\"sk-toggleable__content\"><pre>StandardScaler()</pre></div></div></div><div class=\"sk-item\"><div class=\"sk-estimator sk-toggleable\"><input class=\"sk-toggleable__control sk-hidden--visually\" id=\"sk-estimator-id-3\" type=\"checkbox\" ><label for=\"sk-estimator-id-3\" class=\"sk-toggleable__label sk-toggleable__label-arrow\">GradientBoostingClassifier</label><div class=\"sk-toggleable__content\"><pre>GradientBoostingClassifier(max_depth=5, n_estimators=300)</pre></div></div></div></div></div></div></div>"
      ],
      "text/plain": [
       "Pipeline(steps=[('preprocessor', StandardScaler()),\n",
       "                ('model',\n",
       "                 GradientBoostingClassifier(max_depth=5, n_estimators=300))])"
      ]
     },
     "execution_count": 43,
     "metadata": {},
     "output_type": "execute_result"
    }
   ],
   "source": [
    "# Create the Gradient Boosting Classifier with the best hyperparameters\n",
    "gradient_boosting_classifier = GradientBoostingClassifier(learning_rate=0.1, max_depth=5, n_estimators=300)\n",
    "\n",
    "# Create the pipeline with the preprocessor and the MLPClassifier\n",
    "pipe = Pipeline([('preprocessor', preprocessor), ('model', gradient_boosting_classifier)])\n",
    "\n",
    "# Fit the pipeline with the training data\n",
    "pipe.fit(X_train_resampled, y_train_resampled)"
   ]
  },
  {
   "cell_type": "markdown",
   "metadata": {
    "id": "Xsnjj-obQPqm"
   },
   "source": [
    "## Getting feature importance"
   ]
  },
  {
   "cell_type": "code",
   "execution_count": 44,
   "metadata": {
    "colab": {
     "base_uri": "https://localhost:8080/",
     "height": 763
    },
    "id": "_crTbZXlQOJH",
    "outputId": "0018d8cb-e30c-4073-adb5-c375f0035049"
   },
   "outputs": [
    {
     "name": "stdout",
     "output_type": "stream",
     "text": [
      "Top 8 Most Important Features:\n",
      "PL: 0.3711332239523148\n",
      "M11: 0.17617117177645525\n",
      "BD2: 0.11093746385897994\n",
      "Age: 0.09001248869914996\n",
      "TS: 0.07359346352218366\n",
      "PR: 0.07226265317504013\n",
      "SK: 0.055928590134943265\n",
      "PRG: 0.04996094488093308\n"
     ]
    },
    {
     "data": {
      "image/png": "[encoded data removed]",
      "text/plain": [
       "<Figure size 1000x600 with 1 Axes>"
      ]
     },
     "metadata": {},
     "output_type": "display_data"
    }
   ],
   "source": [
    "# Get the Gradient Boosting model from the pipeline\n",
    "gradient_boosting_model = pipe.named_steps['model']\n",
    "\n",
    "# Get the feature importances\n",
    "feature_importances = gradient_boosting_model.feature_importances_\n",
    "\n",
    "# Sort the feature importances in descending order\n",
    "sorted_indices = feature_importances.argsort()[::-1]\n",
    "\n",
    "# Get the names of the features in the original order\n",
    "feature_names = X_train.columns\n",
    "\n",
    "# Print the top 10 most important features and their importances\n",
    "print(\"Top 8 Most Important Features:\")\n",
    "for i in range(8):\n",
    "    print(f\"{feature_names[sorted_indices[i]]}: {feature_importances[sorted_indices[i]]}\")\n",
    "\n",
    "# Plot the feature importances\n",
    "import matplotlib.pyplot as plt\n",
    "\n",
    "plt.figure(figsize=(10, 6))\n",
    "plt.bar(range(X_train.shape[1]), feature_importances[sorted_indices])\n",
    "plt.xticks(range(X_train.shape[1]), feature_names[sorted_indices], rotation=45, ha=\"right\")\n",
    "plt.xlabel(\"Feature\")\n",
    "plt.ylabel(\"Importance\")\n",
    "plt.title(\"Feature Importances\")\n",
    "plt.tight_layout()\n",
    "plt.show()\n"
   ]
  },
  {
   "cell_type": "markdown",
   "metadata": {
    "id": "bClz9_cnViSI"
   },
   "source": [
    "## Visualize ROC and AUC of the Gradient Boosting Model\n",
    "\n",
    "1. y_pred_proba = pipe.predict_proba(X_val_scaled): This line uses the trained gradient boosting (stored in the pipe pipeline) to make predictions on the validation data (X_val_scaled). Instead of predicting the class labels directly, predict_proba returns the predicted probabilities for each class. In this case, since we are interested in the positive class ('Positive'), we extract the probabilities for class index 1, which represents the positive class.\n",
    "\n",
    "2. positive_class_probs = y_pred_proba[:, 1]: This line extracts the probabilities for the positive class ('Positive') from the y_pred_proba array. The variable positive_class_probs will now contain the predicted probabilities of the positive class for each sample in the validation set.\n",
    "\n",
    "3. fpr, tpr, thresholds = roc_curve(y_val_encoded, positive_class_probs): This line calculates the False Positive Rate (FPR), True Positive Rate (TPR), and corresponding thresholds for different classification thresholds. The function roc_curve takes the true labels of the validation set (y_val_encoded) and the predicted probabilities of the positive class (positive_class_probs) as input and returns the FPR, TPR, and thresholds.\n",
    "\n",
    "4. auc_score = roc_auc_score(y_val_encoded, positive_class_probs): This line calculates the Area Under the Curve (AUC) score. The roc_auc_score function takes the true labels of the validation set (y_val_encoded) and the predicted probabilities of the positive class (positive_class_probs) as input and computes the AUC score.\n",
    "\n",
    "5. Plot the ROC Curve: This part of the code creates a plot using matplotlib to visualize the ROC curve. The ROC curve is plotted using the FPR on the x-axis and the TPR on the y-axis. The plt.plot function is used to draw the ROC curve, and the plt.plot([0, 1], [0, 1], color='gray', linestyle='--') line adds a diagonal line representing a random classifier (AUC = 0.5). The plt.xlabel, plt.ylabel, plt.title, and plt.legend functions set labels and a legend for the plot. Finally, plt.grid(True) adds gridlines to the plot, and plt.show() displays the plot.\n",
    "\n",
    "The ROC curve shows the model's performance at different classification thresholds, and the AUC score represents the overall performance of the model in distinguishing between the positive and negative classes. A model with a higher AUC score is generally better at correctly classifying positive and negative samples, with an AUC score of 1.0 representing a perfect classifier."
   ]
  },
  {
   "cell_type": "code",
   "execution_count": 45,
   "metadata": {
    "colab": {
     "base_uri": "https://localhost:8080/",
     "height": 564
    },
    "id": "IrnfDERFVtAm",
    "outputId": "6a1ddfaf-006d-4fb2-e122-faf76db1db09"
   },
   "outputs": [
    {
     "data": {
      "image/png": "[encoded data removed]",
      "text/plain": [
       "<Figure size 800x600 with 1 Axes>"
      ]
     },
     "metadata": {},
     "output_type": "display_data"
    }
   ],
   "source": [
    "# Make predictions using the trained neural network\n",
    "y_pred_proba = pipe.predict_proba(X_val_scaled)\n",
    "\n",
    "# Extract the probabilities for the positive class (class index 1)\n",
    "positive_class_probs = y_pred_proba[:, 1]\n",
    "\n",
    "# Calculate the false positive rate (FPR) and true positive rate (TPR) for different thresholds\n",
    "fpr, tpr, thresholds = roc_curve(y_val_encoded, positive_class_probs)\n",
    "\n",
    "# Calculate the AUC (Area Under the Curve)\n",
    "auc_score = roc_auc_score(y_val_encoded, positive_class_probs)\n",
    "\n",
    "# Plot the ROC curve\n",
    "plt.figure(figsize=(8, 6))\n",
    "plt.plot(fpr, tpr, color='blue', lw=2, label=f'ROC Curve (AUC = {auc_score:.3f})')\n",
    "plt.plot([0, 1], [0, 1], color='gray', linestyle='--')\n",
    "plt.xlabel('False Positive Rate (FPR)')\n",
    "plt.ylabel('True Positive Rate (TPR)')\n",
    "plt.title('Receiver Operating Characteristic (ROC) Curve')\n",
    "plt.legend(loc='lower right')\n",
    "plt.grid(True)\n",
    "plt.show()"
   ]
  },
  {
   "cell_type": "markdown",
   "metadata": {
    "id": "okSCPE0CYghg"
   },
   "source": [
    "- The value of 0.783 for the AUC (Area Under the Curve) score indicates the performance of the Gradient Boosting model in distinguishing between the positive and negative classes. The AUC score ranges from 0 to 1, where a score of 0.5 represents a random classifier, and a score of 1.0 represents a perfect classifier.\n",
    "\n",
    "- In this case, the AUC score of 0.783 suggests that the Random Forest model performs reasonably well in distinguishing between the positive and negative samples in the validation set. The closer the AUC score is to 1.0, the better the model's ability to correctly rank positive instances higher than negative instances.\n",
    "\n",
    "- An AUC score of 0.768 indicates that the model is better than a random classifier but may not be perfect in its predictions. Depending on the specific problem and domain, an AUC score of 0.783 can be considered as a good result, particularly if the data is imbalanced or the task is challenging."
   ]
  },
  {
   "cell_type": "markdown",
   "metadata": {
    "id": "JoloAfkZY0Hd"
   },
   "source": [
    "## Confusion Matrix\n",
    "\n",
    "The code below will plot a heatmap representing the confusion matrix, where each cell represents the count of true positives, false positives, true negatives, and false negatives. The diagonal elements represent correct predictions (true positives and true negatives), while off-diagonal elements represent incorrect predictions (false positives and false negatives). The darker shades in the heatmap indicate higher counts, indicating stronger predictive performance."
   ]
  },
  {
   "cell_type": "code",
   "execution_count": 46,
   "metadata": {
    "colab": {
     "base_uri": "https://localhost:8080/",
     "height": 564
    },
    "id": "imqhIhDbYmye",
    "outputId": "efd7fa15-b9c5-46e1-8071-dd50d00830f9"
   },
   "outputs": [
    {
     "data": {
      "image/png": "[encoded data removed]",
      "text/plain": [
       "<Figure size 600x600 with 1 Axes>"
      ]
     },
     "metadata": {},
     "output_type": "display_data"
    }
   ],
   "source": [
    "# Make predictions using the trained neural network\n",
    "y_pred = pipe.predict(X_val_scaled)\n",
    "\n",
    "# Compute the confusion matrix\n",
    "cm = confusion_matrix(y_val_encoded, y_pred)\n",
    "\n",
    "# Visualize the confusion matrix as a heatmap\n",
    "plt.figure(figsize=(6, 6))\n",
    "sns.heatmap(cm, annot=True, cmap='YlGnBu', fmt='d', cbar=False)\n",
    "plt.xlabel('Predicted Labels')\n",
    "plt.ylabel('True Labels')\n",
    "plt.title('Confusion Matrix')\n",
    "plt.show()"
   ]
  },
  {
   "cell_type": "code",
   "execution_count": 47,
   "metadata": {
    "colab": {
     "base_uri": "https://localhost:8080/"
    },
    "id": "vgkZERY0cF_M",
    "outputId": "8145d6f5-6c13-419d-dd13-42c7c288fbad"
   },
   "outputs": [
    {
     "data": {
      "text/plain": [
       "array([[62, 16],\n",
       "       [17, 25]])"
      ]
     },
     "execution_count": 47,
     "metadata": {},
     "output_type": "execute_result"
    }
   ],
   "source": [
    "cm"
   ]
  },
  {
   "cell_type": "markdown",
   "metadata": {
    "id": "zVmQKL35cojW"
   },
   "source": [
    "The confusion matrix for the Neural Network model indicates the following:\n",
    "\n",
    "True Positive (TP): There are 24 instances that are correctly predicted as positive (actual positive and predicted positive).\n",
    "\n",
    "True Negative (TN): There are 61 instances that are correctly predicted as negative (actual negative and predicted negative).\n",
    "\n",
    "False Positive (FP): There are 18 instances that are incorrectly predicted as positive (actual negative but predicted positive).\n",
    "\n",
    "False Negative (FN): There are 17 instances that are incorrectly predicted as negative (actual positive but predicted negative).\n",
    "\n",
    "These results show that the Neural Network model correctly predicted 24 positive cases and 61 negative cases. However, it misclassified 18 instances as false positives and 17 instances as false negatives. The model's performance is not perfect, but it is capturing both positive and negative cases to some extent."
   ]
  },
  {
   "cell_type": "markdown",
   "metadata": {
    "id": "DtQbqqobdPfH"
   },
   "source": [
    "## Predictions from the Gradient Boosting Model"
   ]
  },
  {
   "cell_type": "code",
   "execution_count": 48,
   "metadata": {
    "colab": {
     "base_uri": "https://localhost:8080/"
    },
    "id": "DVJza49ycvs2",
    "outputId": "47260a58-5624-4c27-ef43-7e6e42f2191d"
   },
   "outputs": [
    {
     "name": "stderr",
     "output_type": "stream",
     "text": [
      "/home/penscola/.local/lib/python3.10/site-packages/sklearn/base.py:432: UserWarning: X has feature names, but StandardScaler was fitted without feature names\n",
      "  warnings.warn(\n"
     ]
    }
   ],
   "source": [
    "# Make predictions using the trained pipeline\n",
    "y_pred = pipe.predict(test_df)"
   ]
  },
  {
   "cell_type": "code",
   "execution_count": 49,
   "metadata": {
    "id": "LJIsd932fRAp"
   },
   "outputs": [],
   "source": [
    "# Create a DataFrame of  y_pred\n",
    "df_results = pd.DataFrame( y_pred)"
   ]
  },
  {
   "cell_type": "code",
   "execution_count": 50,
   "metadata": {
    "id": "V8ZFega5-94g"
   },
   "outputs": [],
   "source": [
    "y_train_resampled_df = pd.DataFrame(y_train_resampled)"
   ]
  },
  {
   "cell_type": "markdown",
   "metadata": {
    "id": "bnqFXVypE-Qu"
   },
   "source": [
    "## Compare the results of y and predicted_y"
   ]
  },
  {
   "cell_type": "code",
   "execution_count": 51,
   "metadata": {
    "colab": {
     "base_uri": "https://localhost:8080/",
     "height": 363
    },
    "id": "uB5Qzaz5E8wd",
    "outputId": "e4cfafe6-1ef3-434c-eb58-7bdfc6b4d35a"
   },
   "outputs": [
    {
     "data": {
      "text/html": [
       "<div>\n",
       "<style scoped>\n",
       "    .dataframe tbody tr th:only-of-type {\n",
       "        vertical-align: middle;\n",
       "    }\n",
       "\n",
       "    .dataframe tbody tr th {\n",
       "        vertical-align: top;\n",
       "    }\n",
       "\n",
       "    .dataframe thead th {\n",
       "        text-align: right;\n",
       "    }\n",
       "</style>\n",
       "<table border=\"1\" class=\"dataframe\">\n",
       "  <thead>\n",
       "    <tr style=\"text-align: right;\">\n",
       "      <th></th>\n",
       "      <th>Predicted_y_value</th>\n",
       "      <th>True_y_value</th>\n",
       "    </tr>\n",
       "  </thead>\n",
       "  <tbody>\n",
       "    <tr>\n",
       "      <th>0</th>\n",
       "      <td>0</td>\n",
       "      <td>0</td>\n",
       "    </tr>\n",
       "    <tr>\n",
       "      <th>1</th>\n",
       "      <td>1</td>\n",
       "      <td>1</td>\n",
       "    </tr>\n",
       "    <tr>\n",
       "      <th>2</th>\n",
       "      <td>1</td>\n",
       "      <td>0</td>\n",
       "    </tr>\n",
       "    <tr>\n",
       "      <th>3</th>\n",
       "      <td>1</td>\n",
       "      <td>0</td>\n",
       "    </tr>\n",
       "    <tr>\n",
       "      <th>4</th>\n",
       "      <td>0</td>\n",
       "      <td>0</td>\n",
       "    </tr>\n",
       "    <tr>\n",
       "      <th>5</th>\n",
       "      <td>1</td>\n",
       "      <td>1</td>\n",
       "    </tr>\n",
       "    <tr>\n",
       "      <th>6</th>\n",
       "      <td>1</td>\n",
       "      <td>1</td>\n",
       "    </tr>\n",
       "    <tr>\n",
       "      <th>7</th>\n",
       "      <td>0</td>\n",
       "      <td>0</td>\n",
       "    </tr>\n",
       "    <tr>\n",
       "      <th>8</th>\n",
       "      <td>0</td>\n",
       "      <td>0</td>\n",
       "    </tr>\n",
       "    <tr>\n",
       "      <th>9</th>\n",
       "      <td>0</td>\n",
       "      <td>0</td>\n",
       "    </tr>\n",
       "  </tbody>\n",
       "</table>\n",
       "</div>"
      ],
      "text/plain": [
       "   Predicted_y_value  True_y_value\n",
       "0                  0             0\n",
       "1                  1             1\n",
       "2                  1             0\n",
       "3                  1             0\n",
       "4                  0             0\n",
       "5                  1             1\n",
       "6                  1             1\n",
       "7                  0             0\n",
       "8                  0             0\n",
       "9                  0             0"
      ]
     },
     "execution_count": 51,
     "metadata": {},
     "output_type": "execute_result"
    }
   ],
   "source": [
    "# Get the first 10 rows of each dataframe\n",
    "df_results_first_10 = df_results.head(10)\n",
    "y_train_resampled_df_first_10 = y_train_resampled_df.head(10)\n",
    "\n",
    "# Concatenate the two dataframes side by side with appropriate column names\n",
    "result_side_by_side = pd.concat([df_results_first_10, y_train_resampled_df_first_10], axis=1)\n",
    "\n",
    "# Set new column names\n",
    "result_side_by_side.columns = ['Predicted_y_value', 'True_y_value']\n",
    "\n",
    "# Print the result\n",
    "result_side_by_side"
   ]
  },
  {
   "cell_type": "markdown",
   "metadata": {
    "id": "S5Jwh9LWolZ9"
   },
   "source": [
    "## Evaluation of dataset X_val and y_val after and before prediction"
   ]
  },
  {
   "cell_type": "code",
   "execution_count": 52,
   "metadata": {
    "colab": {
     "base_uri": "https://localhost:8080/"
    },
    "id": "J0ntm1lIKnmO",
    "outputId": "2a5309ce-726d-4125-d96d-b8287763f583"
   },
   "outputs": [
    {
     "name": "stderr",
     "output_type": "stream",
     "text": [
      "/home/penscola/.local/lib/python3.10/site-packages/sklearn/base.py:432: UserWarning: X has feature names, but StandardScaler was fitted without feature names\n",
      "  warnings.warn(\n"
     ]
    }
   ],
   "source": [
    "# Predictions of Sepssis from X_val dataset\n",
    "eval_pred= pipe.predict(X_val)"
   ]
  },
  {
   "cell_type": "markdown",
   "metadata": {
    "id": "Q7Wmc3b3n-Dx"
   },
   "source": [
    "## X_val dataset predictions"
   ]
  },
  {
   "cell_type": "code",
   "execution_count": 53,
   "metadata": {
    "colab": {
     "base_uri": "https://localhost:8080/"
    },
    "id": "UDRBkH05Llzp",
    "outputId": "669b5624-9b72-4010-94e2-875c6675d8fc"
   },
   "outputs": [
    {
     "data": {
      "text/plain": [
       "array([0, 0, 0, 0, 0, 0, 0, 0, 0, 0, 1, 1, 0, 1, 0, 0, 1, 0, 1, 1, 0, 0,\n",
       "       1, 1, 1, 0, 0, 1, 0, 0, 0, 0, 1, 1, 0, 0, 0, 0, 0, 0, 1, 1, 0, 1,\n",
       "       0, 0, 1, 0, 1, 1, 0, 1, 0, 1, 0, 0, 1, 0, 0, 0, 0, 0, 0, 0, 1, 0,\n",
       "       0, 0, 0, 1, 0, 0, 0, 1, 0, 1, 1, 0, 1, 1, 0, 1, 0, 0, 1, 1, 0, 1,\n",
       "       1, 1, 1, 1, 0, 1, 0, 1, 1, 0, 1, 0, 1, 0, 0, 0, 1, 1, 0, 1, 1, 0,\n",
       "       0, 0, 1, 1, 1, 1, 0, 0, 1, 1])"
      ]
     },
     "execution_count": 53,
     "metadata": {},
     "output_type": "execute_result"
    }
   ],
   "source": [
    "# Sepssis predictions where Negative=0 and Positive=1\n",
    "eval_pred"
   ]
  },
  {
   "cell_type": "code",
   "execution_count": 54,
   "metadata": {
    "colab": {
     "base_uri": "https://localhost:8080/"
    },
    "id": "aWJCAOJKL0KW",
    "outputId": "560d3672-cf16-4c53-9234-844304eebe0d"
   },
   "outputs": [
    {
     "data": {
      "text/plain": [
       "32     Negative\n",
       "152    Positive\n",
       "407    Negative\n",
       "244    Negative\n",
       "162    Negative\n",
       "         ...   \n",
       "517    Negative\n",
       "94     Negative\n",
       "496    Negative\n",
       "582    Negative\n",
       "436    Negative\n",
       "Name: Sepssis, Length: 120, dtype: object"
      ]
     },
     "execution_count": 54,
     "metadata": {},
     "output_type": "execute_result"
    }
   ],
   "source": [
    "# Original values of y_val\n",
    "y_val"
   ]
  },
  {
   "cell_type": "code",
   "execution_count": 55,
   "metadata": {
    "colab": {
     "base_uri": "https://localhost:8080/"
    },
    "id": "WYFbbOaKq2yP",
    "outputId": "0c757275-f1bb-490c-e091-dc3063e8180e"
   },
   "outputs": [
    {
     "data": {
      "text/plain": [
       "Negative    78\n",
       "Positive    42\n",
       "Name: Sepssis, dtype: int64"
      ]
     },
     "execution_count": 55,
     "metadata": {},
     "output_type": "execute_result"
    }
   ],
   "source": [
    "y_val.value_counts()"
   ]
  },
  {
   "cell_type": "markdown",
   "metadata": {
    "id": "lMFvZsg8zRB8"
   },
   "source": [
    "# Save the Gradient Boosting Model"
   ]
  },
  {
   "cell_type": "code",
   "execution_count": 56,
   "metadata": {
    "id": "GcbS7VW5zY2g"
   },
   "outputs": [],
   "source": [
    "# Save the model using pickle\n",
    "with open('gradient_boosting_model.pkl', 'wb') as f:\n",
    "    pickle.dump(pipe, f)"
   ]
  },
  {
   "cell_type": "markdown",
   "metadata": {
    "id": "fJ-fIgx3zcj3"
   },
   "source": [
    "## Load and test the model on test_df once again"
   ]
  },
  {
   "cell_type": "code",
   "execution_count": 57,
   "metadata": {
    "id": "sWsR0NmrzmpW"
   },
   "outputs": [],
   "source": [
    "# Load the saved model using pickle\n",
    "with open('gradient_boosting_model.pkl', 'rb') as f:\n",
    "    loaded_model = pickle.load(f)"
   ]
  },
  {
   "cell_type": "code",
   "execution_count": 58,
   "metadata": {
    "colab": {
     "base_uri": "https://localhost:8080/"
    },
    "id": "ZsaKwS_DzwfV",
    "outputId": "879614f5-267b-4347-da3b-42646c6efaa7"
   },
   "outputs": [
    {
     "name": "stderr",
     "output_type": "stream",
     "text": [
      "/home/penscola/.local/lib/python3.10/site-packages/sklearn/base.py:432: UserWarning: X has feature names, but StandardScaler was fitted without feature names\n",
      "  warnings.warn(\n"
     ]
    }
   ],
   "source": [
    "# Predict values of the test_df dataset\n",
    "predictions = loaded_model.predict(test_df)"
   ]
  },
  {
   "cell_type": "code",
   "execution_count": 59,
   "metadata": {
    "colab": {
     "base_uri": "https://localhost:8080/"
    },
    "id": "9z5sgfnF0Hus",
    "outputId": "054889cf-0d63-4be0-849f-d08b15ad5bff"
   },
   "outputs": [
    {
     "data": {
      "text/plain": [
       "array([0, 1, 1, 1, 0, 1, 1, 0, 0, 0, 0, 0, 0, 0, 1, 0, 1, 1, 0, 1, 1, 0,\n",
       "       1, 1, 0, 1, 0, 0, 1, 1, 1, 0, 0, 1, 0, 1, 1, 1, 0, 0, 0, 0, 1, 1,\n",
       "       0, 0, 0, 0, 0, 0, 1, 0, 0, 0, 1, 0, 0, 0, 0, 1, 0, 1, 1, 0, 0, 1,\n",
       "       0, 1, 1, 0, 0, 0, 1, 0, 0, 0, 0, 1, 0, 1, 0, 0, 1, 0, 1, 0, 0, 0,\n",
       "       1, 0, 0, 0, 1, 0, 0, 1, 0, 0, 1, 0, 0, 0, 1, 1, 1, 0, 1, 1, 0, 1,\n",
       "       0, 0, 0, 1, 0, 1, 0, 0, 0, 0, 1, 1, 0, 0, 0, 1, 1, 0, 1, 1, 1, 0,\n",
       "       1, 0, 0, 1, 1, 0, 0, 0, 1, 0, 0, 0, 1, 0, 0, 1, 0, 0, 1, 1, 0, 1,\n",
       "       0, 1, 0, 1, 0, 1, 1, 0, 1, 1, 0, 1, 0, 1, 1])"
      ]
     },
     "execution_count": 59,
     "metadata": {},
     "output_type": "execute_result"
    }
   ],
   "source": [
    "predictions"
   ]
  }
 ],
 "metadata": {
  "colab": {
   "provenance": []
  },
  "kernelspec": {
   "display_name": "Python 3 (ipykernel)",
   "language": "python",
   "name": "python3"
  },
  "language_info": {
   "codemirror_mode": {
    "name": "ipython",
    "version": 3
   },
   "file_extension": ".py",
   "mimetype": "text/x-python",
   "name": "python",
   "nbconvert_exporter": "python",
   "pygments_lexer": "ipython3",
   "version": "3.10.9"
  }
 },
 "nbformat": 4,
 "nbformat_minor": 4
}
